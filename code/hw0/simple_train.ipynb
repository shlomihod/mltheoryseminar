{
 "cells": [
  {
   "cell_type": "code",
   "execution_count": 1,
   "metadata": {},
   "outputs": [
    {
     "name": "stdout",
     "output_type": "stream",
     "text": [
      "\u001b[31mERROR: pytorch-lightning 1.1.7 has requirement PyYAML!=5.4.*,>=5.1, but you'll have pyyaml 5.4.1 which is incompatible.\u001b[0m\n",
      "\u001b[33mWARNING: You are using pip version 19.2.1, however version 21.0.1 is available.\n",
      "You should consider upgrading via the 'pip install --upgrade pip' command.\u001b[0m\n",
      "\u001b[33mWARNING: You are using pip version 19.2.1, however version 21.0.1 is available.\n",
      "You should consider upgrading via the 'pip install --upgrade pip' command.\u001b[0m\n",
      "\u001b[33mWARNING: Skipping enum34 as it is not installed.\u001b[0m\n",
      "\u001b[31mERROR: pytorch-lightning 1.1.7 has requirement PyYAML!=5.4.*,>=5.1, but you'll have pyyaml 5.4.1 which is incompatible.\u001b[0m\n",
      "\u001b[31mERROR: aiohttp 3.7.3 has requirement chardet<4.0,>=2.0, but you'll have chardet 4.0.0 which is incompatible.\u001b[0m\n",
      "\u001b[33mWARNING: You are using pip version 19.2.1, however version 21.0.1 is available.\n",
      "You should consider upgrading via the 'pip install --upgrade pip' command.\u001b[0m\n",
      "\u001b[33mWARNING: You are using pip version 19.2.1, however version 21.0.1 is available.\n",
      "You should consider upgrading via the 'pip install --upgrade pip' command.\u001b[0m\n",
      "\u001b[33mWARNING: You are using pip version 19.2.1, however version 21.0.1 is available.\n",
      "You should consider upgrading via the 'pip install --upgrade pip' command.\u001b[0m\n",
      "\u001b[31mERROR: pytorch-lightning 1.1.7 has requirement PyYAML!=5.4.*,>=5.1, but you'll have pyyaml 5.4.1 which is incompatible.\u001b[0m\n",
      "\u001b[31mERROR: aiohttp 3.7.3 has requirement chardet<4.0,>=2.0, but you'll have chardet 4.0.0 which is incompatible.\u001b[0m\n",
      "\u001b[33mWARNING: You are using pip version 19.2.1, however version 21.0.1 is available.\n",
      "You should consider upgrading via the 'pip install --upgrade pip' command.\u001b[0m\n"
     ]
    }
   ],
   "source": [
    "!pip install tqdm --upgrade --force-reinstall --quiet\n",
    "!pip install seaborn --quiet\n",
    "!pip uninstall -y enum34 --quiet\n",
    "!pip install --upgrade --force-reinstall torch torchvision --quiet\n",
    "!pip install pytorch-lightning --quiet\n",
    "!pip install pytorch-lightning-bolts --quiet\n",
    "!pip install --upgrade --force-reinstall wandb --quiet"
   ]
  },
  {
   "cell_type": "code",
   "execution_count": 2,
   "metadata": {},
   "outputs": [
    {
     "name": "stderr",
     "output_type": "stream",
     "text": [
      "/usr/local/lib/python3.6/dist-packages/pl_bolts/utils/warnings.py:32: UserWarning: You want to use `gym` which is not installed yet, install it with `pip install gym`.\n",
      "  f' install it with `pip install {pypi_name}`.' + extra_text\n"
     ]
    }
   ],
   "source": [
    "import numpy as np\n",
    "import pandas as pd\n",
    "import matplotlib.pylab as plt\n",
    "import seaborn as sns\n",
    "from tqdm.auto import tqdm\n",
    "from IPython.display import display\n",
    "\n",
    "import torch\n",
    "import torch.nn as nn\n",
    "import torch.nn.functional as F\n",
    "import torchvision\n",
    "\n",
    "import pytorch_lightning as pl\n",
    "from pytorch_lightning import Trainer\n",
    "from pytorch_lightning.metrics.functional import accuracy, stat_scores_multiple_classes\n",
    "from pytorch_lightning.loggers import WandbLogger\n",
    "\n",
    "import pl_bolts\n",
    "from pl_bolts.transforms.dataset_normalizations import cifar10_normalization\n",
    "\n",
    "import wandb"
   ]
  },
  {
   "cell_type": "markdown",
   "metadata": {},
   "source": [
    "## Load the data (CIFAR-10)"
   ]
  },
  {
   "cell_type": "code",
   "execution_count": 3,
   "metadata": {},
   "outputs": [],
   "source": [
    "CIFAR10_CLASSES = ['airplane', \n",
    "                   'automobile',\n",
    "                   'bird',\n",
    "                   'cat',\n",
    "                   'deer',\n",
    "                   'dog',\n",
    "                   'frog',\n",
    "                   'horse',\n",
    "                   'ship',\n",
    "                   'truck']\n",
    "\n",
    "\n",
    "def instantiate_datamodule(batch_size=128, train_transforms=None, test_transforms=None):\n",
    "    \n",
    "    if train_transforms is None:\n",
    "        train_transforms = []\n",
    "    train_transforms += [torchvision.transforms.ToTensor(),\n",
    "                         cifar10_normalization()]\n",
    "\n",
    "    if test_transforms is None:\n",
    "        test_transforms = []\n",
    "    test_transforms += [torchvision.transforms.ToTensor(),\n",
    "                        cifar10_normalization()]\n",
    "\n",
    "    cifar10_dm = pl_bolts.datamodules.CIFAR10DataModule(\n",
    "        batch_size=batch_size,\n",
    "        train_transforms=torchvision.transforms.Compose(train_transforms),\n",
    "        test_transforms=torchvision.transforms.Compose(test_transforms),\n",
    "        val_transforms=torchvision.transforms.Compose(test_transforms),\n",
    "    )\n",
    "\n",
    "    return cifar10_dm\n",
    "\n",
    "cifar10_dm = instantiate_datamodule()"
   ]
  },
  {
   "cell_type": "markdown",
   "metadata": {},
   "source": [
    "## Create the Myrtle5 model"
   ]
  },
  {
   "cell_type": "code",
   "execution_count": 4,
   "metadata": {},
   "outputs": [],
   "source": [
    "class LitMyrtle5(pl.LightningModule):\n",
    "    \n",
    "    def __init__(self, lr=0.1, c=64, num_classes=10):\n",
    "        \n",
    "        super().__init__()\n",
    "\n",
    "        self.save_hyperparameters()\n",
    "        \n",
    "        self.sequential_module = nn.Sequential(\n",
    "        # Layer 0\n",
    "        nn.Conv2d(3, c, kernel_size=3, stride=1, padding=1, bias=True),\n",
    "        nn.BatchNorm2d(c),\n",
    "        nn.ReLU(),\n",
    "        # Layer 1\n",
    "        nn.Conv2d(c, c*2, kernel_size=3, stride=1, padding=1, bias=True),\n",
    "        nn.BatchNorm2d(c*2),\n",
    "        nn.ReLU(),\n",
    "        nn.MaxPool2d(2),\n",
    "        # Layer 2\n",
    "        nn.Conv2d(c*2, c*4, kernel_size=3, stride=1, padding=1, bias=True),\n",
    "        nn.BatchNorm2d(c*4),\n",
    "        nn.ReLU(),\n",
    "        nn.MaxPool2d(2),\n",
    "        # Layer 3\n",
    "        nn.Conv2d(c*4, c*8, kernel_size=3, stride=1, padding=1, bias=True),\n",
    "        nn.BatchNorm2d(c*8),\n",
    "        nn.ReLU(),\n",
    "        nn.MaxPool2d(2),\n",
    "        # Layer 4\n",
    "        nn.MaxPool2d(4),    \n",
    "        nn.Flatten(),\n",
    "        nn.Linear(c*8, num_classes, bias=True)\n",
    "        )\n",
    "        \n",
    "    def forward(self, x):\n",
    "        output = self.sequential_module(x)\n",
    "        return output\n",
    "    \n",
    "    def _evaluate(self, batch, batch_idx, stage=None):\n",
    "        x, y = batch\n",
    "        output = self.forward(x)\n",
    "        loss = F.cross_entropy(output, y)\n",
    "        preds = torch.argmax(output, dim=-1)\n",
    "        acc = accuracy(preds, y)\n",
    "\n",
    "        if stage:\n",
    "            self.log(f'{stage}_loss', loss, prog_bar=True)\n",
    "            self.log(f'{stage}_acc', acc, prog_bar=True)\n",
    "        \n",
    "        tps, fps, tns, fns, sups = stat_scores_multiple_classes(preds, y)\n",
    "        for class_index, (tp, sup) in enumerate(zip(tps, sups)):\n",
    "            self.log(f'{stage}_tps_{class_index}', tp, reduce_fx=torch.sum)\n",
    "            self.log(f'{stage}_sups_{class_index}', sup, reduce_fx=torch.sum)\n",
    "        \n",
    "        return {'loss': loss, 'acc': acc}\n",
    "\n",
    "    def training_step(self, batch, batch_idx):\n",
    "        # x, y = batch\n",
    "        # output = self.forward(x)\n",
    "        # loss = F.cross_entropy(output, y)\n",
    "        # self.log('train_loss', loss, on_step=True, prog_bar=True)\n",
    "        return self._evaluate(batch, batch_idx, 'train')\n",
    "\n",
    "    def validation_step(self, batch, batch_idx):\n",
    "        return self._evaluate(batch, batch_idx, 'val')\n",
    "\n",
    "    def test_step(self, batch, batch_idx):\n",
    "        self._evaluate(batch, batch_idx, 'test')\n",
    "\n",
    "    def configure_optimizers(self):\n",
    "        return torch.optim.SGD(self.parameters(), lr=self.hparams.lr)\n",
    "    \n",
    "    ####### NOTE #######\n",
    "    # The progress bar of PyTorch Lightning doesn't work in my Paperspace instance\n",
    "    # So I'm printing the loss/acc values here\n",
    "    def _print_epoch_end(self, step_outputs, stage):\n",
    "        loss, acc = zip(*((step['loss'], step['acc']) for step in step_outputs))\n",
    "        print(f'{stage} loss: {torch.stack(loss).mean():.3f}')\n",
    "        print(f'{stage} acc: {torch.stack(acc).mean():.3f}')\n",
    "\n",
    "    def training_epoch_end(self, step_outputs):\n",
    "        self._print_epoch_end(step_outputs, 'train')\n",
    "\n",
    "    def validation_epoch_end(self, step_outputs):\n",
    "        self._print_epoch_end(step_outputs, 'val')"
   ]
  },
  {
   "cell_type": "markdown",
   "metadata": {},
   "source": [
    "## Training"
   ]
  },
  {
   "cell_type": "code",
   "execution_count": 5,
   "metadata": {},
   "outputs": [
    {
     "name": "stderr",
     "output_type": "stream",
     "text": [
      "GPU available: True, used: True\n",
      "TPU available: None, using: 0 TPU cores\n",
      "LOCAL_RANK: 0 - CUDA_VISIBLE_DEVICES: [0]\n"
     ]
    },
    {
     "name": "stdout",
     "output_type": "stream",
     "text": [
      "Files already downloaded and verified\n",
      "Files already downloaded and verified\n"
     ]
    },
    {
     "name": "stderr",
     "output_type": "stream",
     "text": [
      "Failed to query for notebook name, you can set it manually with the WANDB_NOTEBOOK_NAME environment variable\n",
      "\u001b[34m\u001b[1mwandb\u001b[0m: Currently logged in as: \u001b[33mshlomihod\u001b[0m (use `wandb login --relogin` to force relogin)\n"
     ]
    },
    {
     "data": {
      "text/html": [
       "\n",
       "                Tracking run with wandb version 0.10.18<br/>\n",
       "                Syncing run <strong style=\"color:#cdcd00\">q1-robustnesss-original</strong> to <a href=\"https://wandb.ai\" target=\"_blank\">Weights & Biases</a> <a href=\"https://docs.wandb.com/integrations/jupyter.html\" target=\"_blank\">(Documentation)</a>.<br/>\n",
       "                Project page: <a href=\"https://wandb.ai/shlomihod/mltheoryseminar-hw0\" target=\"_blank\">https://wandb.ai/shlomihod/mltheoryseminar-hw0</a><br/>\n",
       "                Run page: <a href=\"https://wandb.ai/shlomihod/mltheoryseminar-hw0/runs/2td7pu9k\" target=\"_blank\">https://wandb.ai/shlomihod/mltheoryseminar-hw0/runs/2td7pu9k</a><br/>\n",
       "                Run data is saved locally in <code>/notebooks/code/hw0/wandb/run-20210211_020254-2td7pu9k</code><br/><br/>\n",
       "            "
      ],
      "text/plain": [
       "<IPython.core.display.HTML object>"
      ]
     },
     "metadata": {},
     "output_type": "display_data"
    },
    {
     "name": "stderr",
     "output_type": "stream",
     "text": [
      "\n",
      "  | Name              | Type       | Params\n",
      "-------------------------------------------------\n",
      "0 | sequential_module | Sequential | 1.6 M \n",
      "-------------------------------------------------\n",
      "1.6 M     Trainable params\n",
      "0         Non-trainable params\n",
      "1.6 M     Total params\n"
     ]
    },
    {
     "data": {
      "application/vnd.jupyter.widget-view+json": {
       "model_id": "5ff7dd8b083b4a93bd9cae815118c799",
       "version_major": 2,
       "version_minor": 0
      },
      "text/plain": [
       "Validation sanity check: 0it [00:00, ?it/s]"
      ]
     },
     "metadata": {},
     "output_type": "display_data"
    },
    {
     "name": "stdout",
     "output_type": "stream",
     "text": [
      "val loss: 2.303\n",
      "val acc: 0.098\n"
     ]
    },
    {
     "data": {
      "application/vnd.jupyter.widget-view+json": {
       "model_id": "f7b42d9391d041f6938b989313651459",
       "version_major": 2,
       "version_minor": 0
      },
      "text/plain": [
       "Training: 0it [00:00, ?it/s]"
      ]
     },
     "metadata": {},
     "output_type": "display_data"
    },
    {
     "data": {
      "application/vnd.jupyter.widget-view+json": {
       "model_id": "bee7c2f02c13408d8097ce8b54e627a6",
       "version_major": 2,
       "version_minor": 0
      },
      "text/plain": [
       "Validating: 0it [00:00, ?it/s]"
      ]
     },
     "metadata": {},
     "output_type": "display_data"
    },
    {
     "name": "stdout",
     "output_type": "stream",
     "text": [
      "val loss: 1.888\n",
      "val acc: 0.373\n",
      "train loss: 2.419\n",
      "train acc: 0.272\n"
     ]
    },
    {
     "data": {
      "application/vnd.jupyter.widget-view+json": {
       "model_id": "603108b7da2e44088698e736302750c6",
       "version_major": 2,
       "version_minor": 0
      },
      "text/plain": [
       "Validating: 0it [00:00, ?it/s]"
      ]
     },
     "metadata": {},
     "output_type": "display_data"
    },
    {
     "name": "stdout",
     "output_type": "stream",
     "text": [
      "val loss: 1.740\n",
      "val acc: 0.431\n",
      "train loss: 1.533\n",
      "train acc: 0.442\n"
     ]
    },
    {
     "data": {
      "application/vnd.jupyter.widget-view+json": {
       "model_id": "3adf22775db4419aacbce70bc7a0f0fd",
       "version_major": 2,
       "version_minor": 0
      },
      "text/plain": [
       "Validating: 0it [00:00, ?it/s]"
      ]
     },
     "metadata": {},
     "output_type": "display_data"
    },
    {
     "name": "stdout",
     "output_type": "stream",
     "text": [
      "val loss: 1.732\n",
      "val acc: 0.479\n",
      "train loss: 1.269\n",
      "train acc: 0.547\n"
     ]
    },
    {
     "data": {
      "application/vnd.jupyter.widget-view+json": {
       "model_id": "2f0a942d55e74c779ba758e854dc892b",
       "version_major": 2,
       "version_minor": 0
      },
      "text/plain": [
       "Validating: 0it [00:00, ?it/s]"
      ]
     },
     "metadata": {},
     "output_type": "display_data"
    },
    {
     "name": "stdout",
     "output_type": "stream",
     "text": [
      "val loss: 1.455\n",
      "val acc: 0.528\n",
      "train loss: 1.081\n",
      "train acc: 0.620\n"
     ]
    },
    {
     "data": {
      "application/vnd.jupyter.widget-view+json": {
       "model_id": "49fab1a2635248b39de9821775d41082",
       "version_major": 2,
       "version_minor": 0
      },
      "text/plain": [
       "Validating: 0it [00:00, ?it/s]"
      ]
     },
     "metadata": {},
     "output_type": "display_data"
    },
    {
     "name": "stdout",
     "output_type": "stream",
     "text": [
      "val loss: 1.378\n",
      "val acc: 0.564\n",
      "train loss: 0.932\n",
      "train acc: 0.677\n"
     ]
    },
    {
     "data": {
      "application/vnd.jupyter.widget-view+json": {
       "model_id": "969e1dafae08463a94a20636bc64e9e1",
       "version_major": 2,
       "version_minor": 0
      },
      "text/plain": [
       "Validating: 0it [00:00, ?it/s]"
      ]
     },
     "metadata": {},
     "output_type": "display_data"
    },
    {
     "name": "stdout",
     "output_type": "stream",
     "text": [
      "val loss: 1.394\n",
      "val acc: 0.584\n",
      "train loss: 0.805\n",
      "train acc: 0.723\n"
     ]
    },
    {
     "data": {
      "application/vnd.jupyter.widget-view+json": {
       "model_id": "bc6b955a41a64bbcaca9871a7485e72e",
       "version_major": 2,
       "version_minor": 0
      },
      "text/plain": [
       "Validating: 0it [00:00, ?it/s]"
      ]
     },
     "metadata": {},
     "output_type": "display_data"
    },
    {
     "name": "stdout",
     "output_type": "stream",
     "text": [
      "val loss: 1.170\n",
      "val acc: 0.671\n",
      "train loss: 0.702\n",
      "train acc: 0.760\n"
     ]
    },
    {
     "data": {
      "application/vnd.jupyter.widget-view+json": {
       "model_id": "f9e7f5c6a3b6469fb1a29a88caa851c5",
       "version_major": 2,
       "version_minor": 0
      },
      "text/plain": [
       "Validating: 0it [00:00, ?it/s]"
      ]
     },
     "metadata": {},
     "output_type": "display_data"
    },
    {
     "name": "stdout",
     "output_type": "stream",
     "text": [
      "val loss: 0.937\n",
      "val acc: 0.686\n",
      "train loss: 0.611\n",
      "train acc: 0.795\n"
     ]
    },
    {
     "data": {
      "application/vnd.jupyter.widget-view+json": {
       "model_id": "76bf465fef8f429b87752ee8ad7d421b",
       "version_major": 2,
       "version_minor": 0
      },
      "text/plain": [
       "Validating: 0it [00:00, ?it/s]"
      ]
     },
     "metadata": {},
     "output_type": "display_data"
    },
    {
     "name": "stdout",
     "output_type": "stream",
     "text": [
      "val loss: 1.187\n",
      "val acc: 0.674\n",
      "train loss: 0.539\n",
      "train acc: 0.823\n"
     ]
    },
    {
     "data": {
      "application/vnd.jupyter.widget-view+json": {
       "model_id": "d82583c9142143c9a9589c223b7df589",
       "version_major": 2,
       "version_minor": 0
      },
      "text/plain": [
       "Validating: 0it [00:00, ?it/s]"
      ]
     },
     "metadata": {},
     "output_type": "display_data"
    },
    {
     "name": "stdout",
     "output_type": "stream",
     "text": [
      "val loss: 0.674\n",
      "val acc: 0.782\n",
      "train loss: 0.451\n",
      "train acc: 0.852\n"
     ]
    },
    {
     "data": {
      "application/vnd.jupyter.widget-view+json": {
       "model_id": "d8ffb0bcc81e416ba226fc6d4935ea58",
       "version_major": 2,
       "version_minor": 0
      },
      "text/plain": [
       "Validating: 0it [00:00, ?it/s]"
      ]
     },
     "metadata": {},
     "output_type": "display_data"
    },
    {
     "name": "stdout",
     "output_type": "stream",
     "text": [
      "val loss: 0.876\n",
      "val acc: 0.743\n",
      "train loss: 0.395\n",
      "train acc: 0.873\n"
     ]
    },
    {
     "data": {
      "application/vnd.jupyter.widget-view+json": {
       "model_id": "d8fc11410449498f882c04046a77de34",
       "version_major": 2,
       "version_minor": 0
      },
      "text/plain": [
       "Validating: 0it [00:00, ?it/s]"
      ]
     },
     "metadata": {},
     "output_type": "display_data"
    },
    {
     "name": "stdout",
     "output_type": "stream",
     "text": [
      "val loss: 0.711\n",
      "val acc: 0.783\n",
      "train loss: 0.318\n",
      "train acc: 0.900\n"
     ]
    },
    {
     "data": {
      "application/vnd.jupyter.widget-view+json": {
       "model_id": "27b84bdc47a547028c9de921e06ba5c7",
       "version_major": 2,
       "version_minor": 0
      },
      "text/plain": [
       "Validating: 0it [00:00, ?it/s]"
      ]
     },
     "metadata": {},
     "output_type": "display_data"
    },
    {
     "name": "stdout",
     "output_type": "stream",
     "text": [
      "val loss: 0.787\n",
      "val acc: 0.776\n",
      "train loss: 0.274\n",
      "train acc: 0.915\n"
     ]
    },
    {
     "data": {
      "application/vnd.jupyter.widget-view+json": {
       "model_id": "6abfa81bcee34be19ffde7cf94453d7d",
       "version_major": 2,
       "version_minor": 0
      },
      "text/plain": [
       "Validating: 0it [00:00, ?it/s]"
      ]
     },
     "metadata": {},
     "output_type": "display_data"
    },
    {
     "name": "stdout",
     "output_type": "stream",
     "text": [
      "val loss: 1.601\n",
      "val acc: 0.721\n",
      "train loss: 0.195\n",
      "train acc: 0.944\n"
     ]
    },
    {
     "data": {
      "application/vnd.jupyter.widget-view+json": {
       "model_id": "1d4626198ffa4019a6264244250caf3c",
       "version_major": 2,
       "version_minor": 0
      },
      "text/plain": [
       "Validating: 0it [00:00, ?it/s]"
      ]
     },
     "metadata": {},
     "output_type": "display_data"
    },
    {
     "name": "stdout",
     "output_type": "stream",
     "text": [
      "val loss: 0.681\n",
      "val acc: 0.808\n",
      "train loss: 0.135\n",
      "train acc: 0.965\n"
     ]
    },
    {
     "data": {
      "application/vnd.jupyter.widget-view+json": {
       "model_id": "3cf4f89a058c44e7879dc2daf0f91c86",
       "version_major": 2,
       "version_minor": 0
      },
      "text/plain": [
       "Validating: 0it [00:00, ?it/s]"
      ]
     },
     "metadata": {},
     "output_type": "display_data"
    },
    {
     "name": "stdout",
     "output_type": "stream",
     "text": [
      "val loss: 0.644\n",
      "val acc: 0.826\n",
      "train loss: 0.067\n",
      "train acc: 0.985\n"
     ]
    },
    {
     "data": {
      "application/vnd.jupyter.widget-view+json": {
       "model_id": "3fa089e6c5644d8abcebfbba47b0e813",
       "version_major": 2,
       "version_minor": 0
      },
      "text/plain": [
       "Validating: 0it [00:00, ?it/s]"
      ]
     },
     "metadata": {},
     "output_type": "display_data"
    },
    {
     "name": "stdout",
     "output_type": "stream",
     "text": [
      "val loss: 0.615\n",
      "val acc: 0.837\n",
      "train loss: 0.020\n",
      "train acc: 0.998\n"
     ]
    },
    {
     "data": {
      "application/vnd.jupyter.widget-view+json": {
       "model_id": "d859e616eeb74dc39bbfde45ed30096a",
       "version_major": 2,
       "version_minor": 0
      },
      "text/plain": [
       "Validating: 0it [00:00, ?it/s]"
      ]
     },
     "metadata": {},
     "output_type": "display_data"
    },
    {
     "name": "stdout",
     "output_type": "stream",
     "text": [
      "val loss: 0.602\n",
      "val acc: 0.846\n",
      "train loss: 0.007\n",
      "train acc: 1.000\n"
     ]
    },
    {
     "data": {
      "application/vnd.jupyter.widget-view+json": {
       "model_id": "c7c0b8e7f8594399a5ed90dd4d765d94",
       "version_major": 2,
       "version_minor": 0
      },
      "text/plain": [
       "Validating: 0it [00:00, ?it/s]"
      ]
     },
     "metadata": {},
     "output_type": "display_data"
    },
    {
     "name": "stdout",
     "output_type": "stream",
     "text": [
      "val loss: 0.603\n",
      "val acc: 0.846\n",
      "train loss: 0.004\n",
      "train acc: 1.000\n"
     ]
    },
    {
     "data": {
      "application/vnd.jupyter.widget-view+json": {
       "model_id": "6f246101b73142d7aa0ca0a927730002",
       "version_major": 2,
       "version_minor": 0
      },
      "text/plain": [
       "Validating: 0it [00:00, ?it/s]"
      ]
     },
     "metadata": {},
     "output_type": "display_data"
    },
    {
     "name": "stdout",
     "output_type": "stream",
     "text": [
      "val loss: 0.607\n",
      "val acc: 0.848\n",
      "train loss: 0.003\n",
      "train acc: 1.000\n"
     ]
    },
    {
     "data": {
      "text/html": [
       "<br/>Waiting for W&B process to finish, PID 15674<br/>Program ended successfully."
      ],
      "text/plain": [
       "<IPython.core.display.HTML object>"
      ]
     },
     "metadata": {},
     "output_type": "display_data"
    },
    {
     "data": {
      "application/vnd.jupyter.widget-view+json": {
       "model_id": "9c04b963fce84a5abcb7abf204b41a25",
       "version_major": 2,
       "version_minor": 0
      },
      "text/plain": [
       "VBox(children=(Label(value=' 0.00MB of 0.00MB uploaded (0.00MB deduped)\\r'), FloatProgress(value=1.0, max=1.0)…"
      ]
     },
     "metadata": {},
     "output_type": "display_data"
    },
    {
     "data": {
      "text/html": [
       "Find user logs for this run at: <code>/notebooks/code/hw0/wandb/run-20210211_020254-2td7pu9k/logs/debug.log</code>"
      ],
      "text/plain": [
       "<IPython.core.display.HTML object>"
      ]
     },
     "metadata": {},
     "output_type": "display_data"
    },
    {
     "data": {
      "text/html": [
       "Find internal logs for this run at: <code>/notebooks/code/hw0/wandb/run-20210211_020254-2td7pu9k/logs/debug-internal.log</code>"
      ],
      "text/plain": [
       "<IPython.core.display.HTML object>"
      ]
     },
     "metadata": {},
     "output_type": "display_data"
    },
    {
     "data": {
      "text/html": [
       "<h3>Run summary:</h3><br/><style>\n",
       "    table.wandb td:nth-child(1) { padding: 0 10px; text-align: right }\n",
       "    </style><table class=\"wandb\">\n",
       "<tr><td>train_loss</td><td>0.0018</td></tr><tr><td>train_acc</td><td>1.0</td></tr><tr><td>train_tps_0</td><td>13.0</td></tr><tr><td>train_sups_0</td><td>13.0</td></tr><tr><td>train_tps_1</td><td>15.0</td></tr><tr><td>train_sups_1</td><td>15.0</td></tr><tr><td>train_tps_2</td><td>11.0</td></tr><tr><td>train_sups_2</td><td>11.0</td></tr><tr><td>train_tps_3</td><td>18.0</td></tr><tr><td>train_sups_3</td><td>18.0</td></tr><tr><td>train_tps_4</td><td>7.0</td></tr><tr><td>train_sups_4</td><td>7.0</td></tr><tr><td>train_tps_5</td><td>13.0</td></tr><tr><td>train_sups_5</td><td>13.0</td></tr><tr><td>train_tps_6</td><td>9.0</td></tr><tr><td>train_sups_6</td><td>9.0</td></tr><tr><td>train_tps_7</td><td>13.0</td></tr><tr><td>train_sups_7</td><td>13.0</td></tr><tr><td>train_tps_8</td><td>15.0</td></tr><tr><td>train_sups_8</td><td>15.0</td></tr><tr><td>train_tps_9</td><td>14.0</td></tr><tr><td>train_sups_9</td><td>14.0</td></tr><tr><td>epoch</td><td>19</td></tr><tr><td>_runtime</td><td>309</td></tr><tr><td>_timestamp</td><td>1613009283</td></tr><tr><td>_step</td><td>6259</td></tr><tr><td>val_loss</td><td>0.61273</td></tr><tr><td>val_acc</td><td>0.8467</td></tr><tr><td>val_tps_0</td><td>826.0</td></tr><tr><td>val_sups_0</td><td>973.0</td></tr><tr><td>val_tps_1</td><td>924.0</td></tr><tr><td>val_sups_1</td><td>1010.0</td></tr><tr><td>val_tps_2</td><td>819.0</td></tr><tr><td>val_sups_2</td><td>1006.0</td></tr><tr><td>val_tps_3</td><td>671.0</td></tr><tr><td>val_sups_3</td><td>967.0</td></tr><tr><td>val_tps_4</td><td>775.0</td></tr><tr><td>val_sups_4</td><td>963.0</td></tr><tr><td>val_tps_5</td><td>804.0</td></tr><tr><td>val_sups_5</td><td>1024.0</td></tr><tr><td>val_tps_6</td><td>909.0</td></tr><tr><td>val_sups_6</td><td>1025.0</td></tr><tr><td>val_tps_7</td><td>899.0</td></tr><tr><td>val_sups_7</td><td>1035.0</td></tr><tr><td>val_tps_8</td><td>915.0</td></tr><tr><td>val_sups_8</td><td>998.0</td></tr><tr><td>val_tps_9</td><td>925.0</td></tr><tr><td>val_sups_9</td><td>999.0</td></tr></table>"
      ],
      "text/plain": [
       "<IPython.core.display.HTML object>"
      ]
     },
     "metadata": {},
     "output_type": "display_data"
    },
    {
     "data": {
      "text/html": [
       "<h3>Run history:</h3><br/><style>\n",
       "    table.wandb td:nth-child(1) { padding: 0 10px; text-align: right }\n",
       "    </style><table class=\"wandb\">\n",
       "<tr><td>train_loss</td><td>█▇▆▆▅▅▄▅▄▄▄▃▃▃▄▃▃▃▂▂▂▂▃▂▂▅▁▁▂▁▁▁▁▁▁▁▁▁▁▁</td></tr><tr><td>train_acc</td><td>▁▂▃▃▃▄▅▄▅▅▅▆▆▇▅▆▆▆▇▇▇▇▆▇█▇██▇███████████</td></tr><tr><td>train_tps_0</td><td>▁▂▂▄▆▇▃▆▄▃▆▄█▅▅▇▆▅█▆▅▁▅▆▅▅▆▄▄▇▇█▇▄▆▇██▆▇</td></tr><tr><td>train_sups_0</td><td>▅▄▃▆█▅▅▄▂▃▅▃█▅▆▇▆▂█▆▂▁▅▅▄▄▅▁▂▆▅▇▅▁▄▅▇▇▄▅</td></tr><tr><td>train_tps_1</td><td>▁▁▃▄▃▂▃▄▃▅▅▆▄▅▅██▄▅▄▇▅▄▆▆▅▅▆▄▆▄▃▅█▅▆▅▄▂▅</td></tr><tr><td>train_sups_1</td><td>▄▄▄▂▄▃▄▇▄▅▄▅▆▅▄█▇▄▄▃▆▄▃▅▅▄▄▅▃▅▃▂▄▇▄▅▄▃▁▄</td></tr><tr><td>train_tps_2</td><td>▁▁▁▁▂▃▅▄▃█▄▅▃▅▄▃▄▄▄▅▆▅▅▆▅▅▆▆▆▇▆▄▅▆▅▄█▇▅▅</td></tr><tr><td>train_sups_2</td><td>▅▄▃▄▁▁▄▄▄█▆▅▂▃▂▃▅▃▃▄▅▃▄▄▄▅▅▅▅▅▅▂▄▄▃▁▇▆▄▃</td></tr><tr><td>train_tps_3</td><td>▃▆▃▅▃▁▃▆▃▅▃▃▂▆▃▃▅▂▅▅▅▆▃▄▅▁▇▅▆▅▅▆▅▆██▄▆▆▆</td></tr><tr><td>train_sups_3</td><td>▄█▄▅▅▅▃▆▄▅▂▄▅▇▅▁▅▃▄▃▇▅▃▆▄▃▇▄▆▄▃▄▃▅▇▇▂▅▅▅</td></tr><tr><td>train_tps_4</td><td>▁▁▆▂▃▄▄▂▄▁▂▄▃▃▄▄▄▅▄▄▅▅▆▅▅▆▅▇▇▄▇█▅▇▅█▅▆▇▄</td></tr><tr><td>train_sups_4</td><td>▆▂▇▃▃▇▅▃▅▅▁▃▃▃▅▃▃▇▃▃▅▄▇▅▅▅▅▇▇▃▆█▅▇▄▇▅▅▇▃</td></tr><tr><td>train_tps_5</td><td>▁▁▁▄▁▁▄▂▅▁▄▃▃▅▃▆▅█▂▆▆▆▁▅▇▆▇▆▅█▆▅▆█▆█▅▅█▆</td></tr><tr><td>train_sups_5</td><td>▆▆▅█▅▃▅▇▆▄▇▃▁▄▂▇▃▆▂▇▅▆▃▃▆▄▅▃▆▆▄▂▃▆▄▆▂▃▆▃</td></tr><tr><td>train_tps_6</td><td>▆▃▁▅▄▅▄▃▄▂▅▃▅▅▄▄▆▅▅▇▄▄▆▅▄▆▄▅▆▅▆█▇▃▅▄▃▅▆▇</td></tr><tr><td>train_sups_6</td><td>▅▃▅▃█▇▂▂▅▁▅▁▃▄▇▄▆▅▅▇▂▁▅▃▃▅▂▃▇▄▅█▆▁▃▂▁▃▅▇</td></tr><tr><td>train_tps_7</td><td>▁▁▄▂▅▆▄▂▄▅▃▇▆▅▇▄▅▄▇▆▇▆▅▅▆▆▄▇▅▆▅▇▆▅▅▆▄▅█▆</td></tr><tr><td>train_sups_7</td><td>▁▄▇▂▅██▃▅▃▂▇▅▂▅▂▃▄▆▄▆▄▃▃▄▅▂▅▃▄▃▅▄▂▃▄▂▃▇▄</td></tr><tr><td>train_tps_8</td><td>▄▃▃▃▁▂▄▄▃▆▆▄▆▆▃▅▃▅▆▆▄▆▃▅▅▇▆▅▃▅█▅▇▇▆▆▆█▅▆</td></tr><tr><td>train_sups_8</td><td>▄▆▃▇▃▂▃▆▃▅▇▃▅▆▃▅▁▃▆▆▃▅▃▃▄▇▅▃▁▃▇▅▇▇▅▅▅█▃▅</td></tr><tr><td>train_tps_9</td><td>▁▄▃▁▄▃▅▃▆▄▅▆▆▅▃▃▄▆▅▄▃█▇▇▆▄▆▆▅▆▅▄▄▄▇▃█▃▅▆</td></tr><tr><td>train_sups_9</td><td>▄▃▄▄▃▃▄▂▆▃▅█▅▄▅▃▃▅▄▂▁█▇▆▅▂▄▅▄▄▃▂▂▂▆▁▇▁▄▄</td></tr><tr><td>epoch</td><td>▁▁▁▁▂▂▂▂▂▂▃▃▃▃▄▄▄▄▄▄▅▅▅▅▅▅▆▆▆▆▇▇▇▇▇▇████</td></tr><tr><td>_runtime</td><td>▁▁▁▁▂▂▂▂▂▃▃▃▃▃▃▄▄▄▄▄▅▅▅▅▅▅▆▆▆▆▆▆▇▇▇▇▇███</td></tr><tr><td>_timestamp</td><td>▁▁▁▁▂▂▂▂▂▃▃▃▃▃▃▄▄▄▄▄▅▅▅▅▅▅▆▆▆▆▆▆▇▇▇▇▇███</td></tr><tr><td>_step</td><td>▁▁▁▂▂▂▂▂▂▃▃▃▃▃▃▄▄▄▄▄▅▅▅▅▅▅▆▆▆▆▆▇▇▇▇▇▇███</td></tr><tr><td>val_loss</td><td>█▇▇▆▅▅▄▃▄▁▃▂▂▇▁▁▁▁▁▁</td></tr><tr><td>val_acc</td><td>▁▂▃▃▄▄▅▆▅▇▆▇▇▆▇█████</td></tr><tr><td>val_tps_0</td><td>▁▂▄▃▃▄▄▃▃▅▄▄▅▆▆█████</td></tr><tr><td>val_sups_0</td><td>▁▁▁▁▁▁▁▁▁▁▁▁▁▁▁▁▁▁▁▁</td></tr><tr><td>val_tps_1</td><td>▁▃▆▇▆▇▇▇▇█████▇█▇▇▇▇</td></tr><tr><td>val_sups_1</td><td>▁▁▁▁▁▁▁▁▁▁▁▁▁▁▁▁▁▁▁▁</td></tr><tr><td>val_tps_2</td><td>▁▄▅▆▇█▇██▇▇▆▇▆▆▇▇▇▇▇</td></tr><tr><td>val_sups_2</td><td>▁▁▁▁▁▁▁▁▁▁▁▁▁▁▁▁▁▁▁▁</td></tr><tr><td>val_tps_3</td><td>▄▃▁▃▃▄▅▂▄▂▄▄▅█▃▄▅▅▅▅</td></tr><tr><td>val_sups_3</td><td>▁▁▁▁▁▁▁▁▁▁▁▁▁▁▁▁▁▁▁▁</td></tr><tr><td>val_tps_4</td><td>▆▆▆▅▂▁▇▆▇█▇█▇▅█▇▇███</td></tr><tr><td>val_sups_4</td><td>▁▁▁▁▁▁▁▁▁▁▁▁▁▁▁▁▁▁▁▁</td></tr><tr><td>val_tps_5</td><td>▁▁▁▂▁▁▁▅▂▇▄▇▆▂██████</td></tr><tr><td>val_sups_5</td><td>▁▁▁▁▁▁▁▁▁▁▁▁▁▁▁▁▁▁▁▁</td></tr><tr><td>val_tps_6</td><td>▁▂▃▅▅▃▆▄▇▇▇▇█▆▇▇▇▇▇▇</td></tr><tr><td>val_sups_6</td><td>▁▁▁▁▁▁▁▁▁▁▁▁▁▁▁▁▁▁▁▁</td></tr><tr><td>val_tps_7</td><td>▂▁▁▃▄▄▅▇▄▇██▆▆██████</td></tr><tr><td>val_sups_7</td><td>▁▁▁▁▁▁▁▁▁▁▁▁▁▁▁▁▁▁▁▁</td></tr><tr><td>val_tps_8</td><td>▁▅▆▇▇▇▇▄▆▆▄▆▆▇█▇▇▇▇▇</td></tr><tr><td>val_sups_8</td><td>▁▁▁▁▁▁▁▁▁▁▁▁▁▁▁▁▁▁▁▁</td></tr><tr><td>val_tps_9</td><td>▁▁▁▁▄▆▆▇▇▇▇▇▇███████</td></tr><tr><td>val_sups_9</td><td>▁▁▁▁▁▁▁▁▁▁▁▁▁▁▁▁▁▁▁▁</td></tr></table><br/>"
      ],
      "text/plain": [
       "<IPython.core.display.HTML object>"
      ]
     },
     "metadata": {},
     "output_type": "display_data"
    },
    {
     "data": {
      "text/html": [
       "Synced 5 W&B file(s), 0 media file(s), 0 artifact file(s) and 1 other file(s)"
      ],
      "text/plain": [
       "<IPython.core.display.HTML object>"
      ]
     },
     "metadata": {},
     "output_type": "display_data"
    },
    {
     "data": {
      "text/html": [
       "\n",
       "                    <br/>Synced <strong style=\"color:#cdcd00\">q1-robustnesss-original</strong>: <a href=\"https://wandb.ai/shlomihod/mltheoryseminar-hw0/runs/2td7pu9k\" target=\"_blank\">https://wandb.ai/shlomihod/mltheoryseminar-hw0/runs/2td7pu9k</a><br/>\n",
       "                "
      ],
      "text/plain": [
       "<IPython.core.display.HTML object>"
      ]
     },
     "metadata": {},
     "output_type": "display_data"
    }
   ],
   "source": [
    "orig_model = LitMyrtle5()\n",
    "\n",
    "wandb_logger = WandbLogger(name='q1-robustnesss-original', project='mltheoryseminar-hw0')\n",
    "orig_trainer = Trainer(max_epochs=20, gpus=1, progress_bar_refresh_rate=20, logger=wandb_logger)\n",
    "\n",
    "orig_trainer.fit(orig_model, cifar10_dm)\n",
    "\n",
    "wandb.finish();"
   ]
  },
  {
   "cell_type": "markdown",
   "metadata": {},
   "source": [
    "## Q1: Robustness"
   ]
  },
  {
   "cell_type": "code",
   "execution_count": 32,
   "metadata": {},
   "outputs": [],
   "source": [
    "vertical_flip_cifar10_dm = instantiate_datamodule(test_transforms=[torchvision.transforms.RandomVerticalFlip(1)])\n",
    "\n",
    "def enrich_with_per_class_accuracy(results, stage='test'):\n",
    "    assert np.isclose(sum([results[metric] for metric in results if 'tps' in metric])\n",
    "                      / sum([results[metric] for metric in results if 'sups' in metric]),\n",
    "             results[f'{stage}_acc'])\n",
    "    \n",
    "    for class_index in range(10):\n",
    "        results[f'{stage}_acc_{class_index}'] = (results[f'{stage}_tps_{class_index}']\n",
    "                                                 / results[f'{stage}_sups_{class_index}'])\n",
    "        \n",
    "    return results\n",
    "\n",
    "\n",
    "def evaluate_vertical_flip_robustness(model):\n",
    "    trainer = Trainer(gpus=1)\n",
    "    \n",
    "    robustness_results = {}\n",
    "    \n",
    "    for tag, dm in (('og', cifar10_dm),\n",
    "                    ('vf', vertical_flip_cifar10_dm)):\n",
    "        test_results = trainer.test(model, datamodule=dm, verbose=False)[0]\n",
    "        robustness_results[tag] = enrich_with_per_class_accuracy(test_results)\n",
    "        \n",
    "    robustness_results['diff'] = {metric:\n",
    "                                  (robustness_results['og'][metric]\n",
    "                                   -  robustness_results['vf'][metric])\n",
    "                                  for metric in robustness_results['og']}\n",
    "\n",
    "    return robustness_results\n",
    "\n",
    "\n",
    "def plot_vertical_flip_robustness(results, path=None):\n",
    "\n",
    "    df = ((pd.DataFrame(results)\n",
    "          .filter(like='acc', axis=0)\n",
    "          .set_axis(['Overall'] + [name.title() for name in  CIFAR10_CLASSES],\n",
    "                    inplace=False)\n",
    "          * 100)\n",
    "          .sort_values(by='diff', ascending=True))\n",
    "    \n",
    "    print('Original CIFAR-10 Test Accuracy: ', df.loc['Overall', 'og'])\n",
    "    print('Vertially flipped CIFAR-10 Test Accuracy: ', df.loc['Overall', 'vf'])\n",
    "\n",
    "    df = df['diff']\n",
    "\n",
    "    overall_index = df.index.get_loc('Overall')\n",
    "    \n",
    "    display(df)\n",
    "    \n",
    "    colors = ['C0'] * overall_index + ['C1'] + ['C0'] * (10-overall_index)\n",
    "\n",
    "    ax = df.plot(kind='barh', color=colors)\n",
    "\n",
    "    ax.set_xlabel('Difference in percentage points')\n",
    "    ax.set_ylabel('Class')\n",
    "    ax.set_xlim(0, 100)\n",
    "    \n",
    "    print('XXXXX', path)\n",
    "    if path is not None:\n",
    "        plt.tight_layout()\n",
    "        plt.savefig(path, dpi=300)\n",
    "    \n",
    "    return ax\n",
    "\n",
    "\n",
    "def report_vertical_flip_robustness_evaluation(model, path=None):\n",
    "    with sns.plotting_context('notebook', font_scale=1.5):\n",
    "        return plot_vertical_flip_robustness(evaluate_vertical_flip_robustness(model), path)"
   ]
  },
  {
   "cell_type": "code",
   "execution_count": 33,
   "metadata": {},
   "outputs": [
    {
     "name": "stderr",
     "output_type": "stream",
     "text": [
      "GPU available: True, used: True\n",
      "TPU available: None, using: 0 TPU cores\n",
      "LOCAL_RANK: 0 - CUDA_VISIBLE_DEVICES: [0]\n"
     ]
    },
    {
     "data": {
      "application/vnd.jupyter.widget-view+json": {
       "model_id": "4d9a7c8d06f7493283cbeadbfd848df7",
       "version_major": 2,
       "version_minor": 0
      },
      "text/plain": [
       "Testing: 0it [00:00, ?it/s]"
      ]
     },
     "metadata": {},
     "output_type": "display_data"
    },
    {
     "name": "stdout",
     "output_type": "stream",
     "text": [
      "Files already downloaded and verified\n",
      "Files already downloaded and verified\n"
     ]
    },
    {
     "data": {
      "application/vnd.jupyter.widget-view+json": {
       "model_id": "582d0746d85e4f08b149db2bf8e5dfcb",
       "version_major": 2,
       "version_minor": 0
      },
      "text/plain": [
       "Testing: 0it [00:00, ?it/s]"
      ]
     },
     "metadata": {},
     "output_type": "display_data"
    },
    {
     "name": "stdout",
     "output_type": "stream",
     "text": [
      "Original CIFAR-10 Test Accuracy:  83.56000185012817\n",
      "Vertially flipped CIFAR-10 Test Accuracy:  42.71000027656555\n"
     ]
    },
    {
     "data": {
      "text/plain": [
       "Airplane      11.600000\n",
       "Frog          18.400000\n",
       "Cat           30.300000\n",
       "Dog           31.300000\n",
       "Deer          36.800000\n",
       "Bird          36.900000\n",
       "Overall       40.850002\n",
       "Truck         43.400000\n",
       "Automobile    61.400000\n",
       "Ship          62.400000\n",
       "Horse         76.000000\n",
       "Name: diff, dtype: float64"
      ]
     },
     "metadata": {},
     "output_type": "display_data"
    },
    {
     "name": "stdout",
     "output_type": "stream",
     "text": [
      "XXXXX figures/q1-org.png\n"
     ]
    },
    {
     "data": {
      "image/png": "[encoded data removed]",
      "text/plain": [
       "<Figure size 432x288 with 1 Axes>"
      ]
     },
     "metadata": {
      "needs_background": "light"
     },
     "output_type": "display_data"
    }
   ],
   "source": [
    "report_vertical_flip_robustness_evaluation(orig_model, path='figures/q1-org.png');"
   ]
  },
  {
   "cell_type": "code",
   "execution_count": 18,
   "metadata": {},
   "outputs": [
    {
     "name": "stderr",
     "output_type": "stream",
     "text": [
      "GPU available: True, used: True\n",
      "TPU available: None, using: 0 TPU cores\n",
      "LOCAL_RANK: 0 - CUDA_VISIBLE_DEVICES: [0]\n"
     ]
    },
    {
     "name": "stdout",
     "output_type": "stream",
     "text": [
      "Files already downloaded and verified\n",
      "Files already downloaded and verified\n"
     ]
    },
    {
     "data": {
      "text/html": [
       "\n",
       "                Tracking run with wandb version 0.10.18<br/>\n",
       "                Syncing run <strong style=\"color:#cdcd00\">q1-robustnesss-augmented</strong> to <a href=\"https://wandb.ai\" target=\"_blank\">Weights & Biases</a> <a href=\"https://docs.wandb.com/integrations/jupyter.html\" target=\"_blank\">(Documentation)</a>.<br/>\n",
       "                Project page: <a href=\"https://wandb.ai/shlomihod/mltheoryseminar-hw0\" target=\"_blank\">https://wandb.ai/shlomihod/mltheoryseminar-hw0</a><br/>\n",
       "                Run page: <a href=\"https://wandb.ai/shlomihod/mltheoryseminar-hw0/runs/34i5rlb1\" target=\"_blank\">https://wandb.ai/shlomihod/mltheoryseminar-hw0/runs/34i5rlb1</a><br/>\n",
       "                Run data is saved locally in <code>/notebooks/code/hw0/wandb/run-20210211_022658-34i5rlb1</code><br/><br/>\n",
       "            "
      ],
      "text/plain": [
       "<IPython.core.display.HTML object>"
      ]
     },
     "metadata": {},
     "output_type": "display_data"
    },
    {
     "name": "stderr",
     "output_type": "stream",
     "text": [
      "\n",
      "  | Name              | Type       | Params\n",
      "-------------------------------------------------\n",
      "0 | sequential_module | Sequential | 1.6 M \n",
      "-------------------------------------------------\n",
      "1.6 M     Trainable params\n",
      "0         Non-trainable params\n",
      "1.6 M     Total params\n"
     ]
    },
    {
     "data": {
      "application/vnd.jupyter.widget-view+json": {
       "model_id": "0f4d10555b1749fcae8458ce23851263",
       "version_major": 2,
       "version_minor": 0
      },
      "text/plain": [
       "Validation sanity check: 0it [00:00, ?it/s]"
      ]
     },
     "metadata": {},
     "output_type": "display_data"
    },
    {
     "name": "stdout",
     "output_type": "stream",
     "text": [
      "val loss: 2.310\n",
      "val acc: 0.098\n"
     ]
    },
    {
     "data": {
      "application/vnd.jupyter.widget-view+json": {
       "model_id": "5c2241c9b8c94c06b7a871fbfdd2b640",
       "version_major": 2,
       "version_minor": 0
      },
      "text/plain": [
       "Training: 0it [00:00, ?it/s]"
      ]
     },
     "metadata": {},
     "output_type": "display_data"
    },
    {
     "data": {
      "application/vnd.jupyter.widget-view+json": {
       "model_id": "480cf012bc14483db986d5011e6eaf12",
       "version_major": 2,
       "version_minor": 0
      },
      "text/plain": [
       "Validating: 0it [00:00, ?it/s]"
      ]
     },
     "metadata": {},
     "output_type": "display_data"
    },
    {
     "name": "stdout",
     "output_type": "stream",
     "text": [
      "val loss: 2.241\n",
      "val acc: 0.265\n",
      "train loss: 2.774\n",
      "train acc: 0.258\n"
     ]
    },
    {
     "data": {
      "application/vnd.jupyter.widget-view+json": {
       "model_id": "b349f7d80a2b43ae8eb15355cbde5188",
       "version_major": 2,
       "version_minor": 0
      },
      "text/plain": [
       "Validating: 0it [00:00, ?it/s]"
      ]
     },
     "metadata": {},
     "output_type": "display_data"
    },
    {
     "name": "stdout",
     "output_type": "stream",
     "text": [
      "val loss: 2.299\n",
      "val acc: 0.302\n",
      "train loss: 1.620\n",
      "train acc: 0.408\n"
     ]
    },
    {
     "data": {
      "application/vnd.jupyter.widget-view+json": {
       "model_id": "40b6e95836dd445a93cfae555a4c6476",
       "version_major": 2,
       "version_minor": 0
      },
      "text/plain": [
       "Validating: 0it [00:00, ?it/s]"
      ]
     },
     "metadata": {},
     "output_type": "display_data"
    },
    {
     "name": "stdout",
     "output_type": "stream",
     "text": [
      "val loss: 1.799\n",
      "val acc: 0.432\n",
      "train loss: 1.393\n",
      "train acc: 0.494\n"
     ]
    },
    {
     "data": {
      "application/vnd.jupyter.widget-view+json": {
       "model_id": "7746dd5d6d5743d1af53aefa373944a0",
       "version_major": 2,
       "version_minor": 0
      },
      "text/plain": [
       "Validating: 0it [00:00, ?it/s]"
      ]
     },
     "metadata": {},
     "output_type": "display_data"
    },
    {
     "name": "stdout",
     "output_type": "stream",
     "text": [
      "val loss: 1.744\n",
      "val acc: 0.476\n",
      "train loss: 1.231\n",
      "train acc: 0.560\n"
     ]
    },
    {
     "data": {
      "application/vnd.jupyter.widget-view+json": {
       "model_id": "df6046990c624a37bf66af2b357c1b25",
       "version_major": 2,
       "version_minor": 0
      },
      "text/plain": [
       "Validating: 0it [00:00, ?it/s]"
      ]
     },
     "metadata": {},
     "output_type": "display_data"
    },
    {
     "name": "stdout",
     "output_type": "stream",
     "text": [
      "val loss: 1.319\n",
      "val acc: 0.547\n",
      "train loss: 1.105\n",
      "train acc: 0.606\n"
     ]
    },
    {
     "data": {
      "application/vnd.jupyter.widget-view+json": {
       "model_id": "ba1760558591471db22de5d946350bec",
       "version_major": 2,
       "version_minor": 0
      },
      "text/plain": [
       "Validating: 0it [00:00, ?it/s]"
      ]
     },
     "metadata": {},
     "output_type": "display_data"
    },
    {
     "name": "stdout",
     "output_type": "stream",
     "text": [
      "val loss: 1.257\n",
      "val acc: 0.562\n",
      "train loss: 0.998\n",
      "train acc: 0.645\n"
     ]
    },
    {
     "data": {
      "application/vnd.jupyter.widget-view+json": {
       "model_id": "e6796abb2df342deb2cf3a7ecfce0465",
       "version_major": 2,
       "version_minor": 0
      },
      "text/plain": [
       "Validating: 0it [00:00, ?it/s]"
      ]
     },
     "metadata": {},
     "output_type": "display_data"
    },
    {
     "name": "stdout",
     "output_type": "stream",
     "text": [
      "val loss: 1.078\n",
      "val acc: 0.615\n",
      "train loss: 0.917\n",
      "train acc: 0.676\n"
     ]
    },
    {
     "data": {
      "application/vnd.jupyter.widget-view+json": {
       "model_id": "7a8351b8c6e14fedad13d507f143409d",
       "version_major": 2,
       "version_minor": 0
      },
      "text/plain": [
       "Validating: 0it [00:00, ?it/s]"
      ]
     },
     "metadata": {},
     "output_type": "display_data"
    },
    {
     "name": "stdout",
     "output_type": "stream",
     "text": [
      "val loss: 1.086\n",
      "val acc: 0.623\n",
      "train loss: 0.849\n",
      "train acc: 0.701\n"
     ]
    },
    {
     "data": {
      "application/vnd.jupyter.widget-view+json": {
       "model_id": "dfe750577294430193ae86c806f7e854",
       "version_major": 2,
       "version_minor": 0
      },
      "text/plain": [
       "Validating: 0it [00:00, ?it/s]"
      ]
     },
     "metadata": {},
     "output_type": "display_data"
    },
    {
     "name": "stdout",
     "output_type": "stream",
     "text": [
      "val loss: 1.019\n",
      "val acc: 0.651\n",
      "train loss: 0.786\n",
      "train acc: 0.728\n"
     ]
    },
    {
     "data": {
      "application/vnd.jupyter.widget-view+json": {
       "model_id": "215321eb1a7e455396f732486039af8a",
       "version_major": 2,
       "version_minor": 0
      },
      "text/plain": [
       "Validating: 0it [00:00, ?it/s]"
      ]
     },
     "metadata": {},
     "output_type": "display_data"
    },
    {
     "name": "stdout",
     "output_type": "stream",
     "text": [
      "val loss: 0.949\n",
      "val acc: 0.680\n",
      "train loss: 0.726\n",
      "train acc: 0.748\n"
     ]
    },
    {
     "data": {
      "application/vnd.jupyter.widget-view+json": {
       "model_id": "ac8b21a5c3c648f49b909e630626d616",
       "version_major": 2,
       "version_minor": 0
      },
      "text/plain": [
       "Validating: 0it [00:00, ?it/s]"
      ]
     },
     "metadata": {},
     "output_type": "display_data"
    },
    {
     "name": "stdout",
     "output_type": "stream",
     "text": [
      "val loss: 0.880\n",
      "val acc: 0.698\n",
      "train loss: 0.669\n",
      "train acc: 0.770\n"
     ]
    },
    {
     "data": {
      "application/vnd.jupyter.widget-view+json": {
       "model_id": "8e9960dbd45647f49afaa92bc291ba02",
       "version_major": 2,
       "version_minor": 0
      },
      "text/plain": [
       "Validating: 0it [00:00, ?it/s]"
      ]
     },
     "metadata": {},
     "output_type": "display_data"
    },
    {
     "name": "stdout",
     "output_type": "stream",
     "text": [
      "val loss: 0.892\n",
      "val acc: 0.702\n",
      "train loss: 0.620\n",
      "train acc: 0.787\n"
     ]
    },
    {
     "data": {
      "application/vnd.jupyter.widget-view+json": {
       "model_id": "7483fbfe20c24bbd8e8d2b56c887c527",
       "version_major": 2,
       "version_minor": 0
      },
      "text/plain": [
       "Validating: 0it [00:00, ?it/s]"
      ]
     },
     "metadata": {},
     "output_type": "display_data"
    },
    {
     "name": "stdout",
     "output_type": "stream",
     "text": [
      "val loss: 0.881\n",
      "val acc: 0.709\n",
      "train loss: 0.580\n",
      "train acc: 0.800\n"
     ]
    },
    {
     "data": {
      "application/vnd.jupyter.widget-view+json": {
       "model_id": "2978768429da4347a9f418a32e988051",
       "version_major": 2,
       "version_minor": 0
      },
      "text/plain": [
       "Validating: 0it [00:00, ?it/s]"
      ]
     },
     "metadata": {},
     "output_type": "display_data"
    },
    {
     "name": "stdout",
     "output_type": "stream",
     "text": [
      "val loss: 0.861\n",
      "val acc: 0.722\n",
      "train loss: 0.533\n",
      "train acc: 0.818\n"
     ]
    },
    {
     "data": {
      "application/vnd.jupyter.widget-view+json": {
       "model_id": "0543f1db896f4714a767edbb9e779551",
       "version_major": 2,
       "version_minor": 0
      },
      "text/plain": [
       "Validating: 0it [00:00, ?it/s]"
      ]
     },
     "metadata": {},
     "output_type": "display_data"
    },
    {
     "name": "stdout",
     "output_type": "stream",
     "text": [
      "val loss: 0.697\n",
      "val acc: 0.768\n",
      "train loss: 0.488\n",
      "train acc: 0.836\n"
     ]
    },
    {
     "data": {
      "application/vnd.jupyter.widget-view+json": {
       "model_id": "0d62c39611904cfd92eeb3babf3a61f5",
       "version_major": 2,
       "version_minor": 0
      },
      "text/plain": [
       "Validating: 0it [00:00, ?it/s]"
      ]
     },
     "metadata": {},
     "output_type": "display_data"
    },
    {
     "name": "stdout",
     "output_type": "stream",
     "text": [
      "val loss: 0.916\n",
      "val acc: 0.718\n",
      "train loss: 0.446\n",
      "train acc: 0.851\n"
     ]
    },
    {
     "data": {
      "application/vnd.jupyter.widget-view+json": {
       "model_id": "b3c9d5c9336d4c46a0e8fd911c565d9c",
       "version_major": 2,
       "version_minor": 0
      },
      "text/plain": [
       "Validating: 0it [00:00, ?it/s]"
      ]
     },
     "metadata": {},
     "output_type": "display_data"
    },
    {
     "name": "stdout",
     "output_type": "stream",
     "text": [
      "val loss: 0.783\n",
      "val acc: 0.747\n",
      "train loss: 0.427\n",
      "train acc: 0.863\n"
     ]
    },
    {
     "data": {
      "application/vnd.jupyter.widget-view+json": {
       "model_id": "bd1f09d8cca64e119670205a02232314",
       "version_major": 2,
       "version_minor": 0
      },
      "text/plain": [
       "Validating: 0it [00:00, ?it/s]"
      ]
     },
     "metadata": {},
     "output_type": "display_data"
    },
    {
     "name": "stdout",
     "output_type": "stream",
     "text": [
      "val loss: 0.772\n",
      "val acc: 0.751\n",
      "train loss: 0.370\n",
      "train acc: 0.878\n"
     ]
    },
    {
     "data": {
      "application/vnd.jupyter.widget-view+json": {
       "model_id": "bdbe203baf0242bca8486a86ff8b2bf1",
       "version_major": 2,
       "version_minor": 0
      },
      "text/plain": [
       "Validating: 0it [00:00, ?it/s]"
      ]
     },
     "metadata": {},
     "output_type": "display_data"
    },
    {
     "name": "stdout",
     "output_type": "stream",
     "text": [
      "val loss: 0.743\n",
      "val acc: 0.766\n",
      "train loss: 0.352\n",
      "train acc: 0.885\n"
     ]
    },
    {
     "data": {
      "application/vnd.jupyter.widget-view+json": {
       "model_id": "71a2358658db407ab00f25ae3f8a7ab7",
       "version_major": 2,
       "version_minor": 0
      },
      "text/plain": [
       "Validating: 0it [00:00, ?it/s]"
      ]
     },
     "metadata": {},
     "output_type": "display_data"
    },
    {
     "name": "stdout",
     "output_type": "stream",
     "text": [
      "val loss: 0.726\n",
      "val acc: 0.771\n",
      "train loss: 0.313\n",
      "train acc: 0.899\n"
     ]
    },
    {
     "data": {
      "application/vnd.jupyter.widget-view+json": {
       "model_id": "6a646a97109f46bfa553e16b2e70f288",
       "version_major": 2,
       "version_minor": 0
      },
      "text/plain": [
       "Validating: 0it [00:00, ?it/s]"
      ]
     },
     "metadata": {},
     "output_type": "display_data"
    },
    {
     "name": "stdout",
     "output_type": "stream",
     "text": [
      "val loss: 0.719\n",
      "val acc: 0.783\n",
      "train loss: 0.264\n",
      "train acc: 0.914\n"
     ]
    },
    {
     "data": {
      "application/vnd.jupyter.widget-view+json": {
       "model_id": "afb915e37be64df6b85506eacf5938f6",
       "version_major": 2,
       "version_minor": 0
      },
      "text/plain": [
       "Validating: 0it [00:00, ?it/s]"
      ]
     },
     "metadata": {},
     "output_type": "display_data"
    },
    {
     "name": "stdout",
     "output_type": "stream",
     "text": [
      "val loss: 0.733\n",
      "val acc: 0.777\n",
      "train loss: 0.250\n",
      "train acc: 0.921\n"
     ]
    },
    {
     "data": {
      "application/vnd.jupyter.widget-view+json": {
       "model_id": "0007687240fa48fa8fc0d10324832483",
       "version_major": 2,
       "version_minor": 0
      },
      "text/plain": [
       "Validating: 0it [00:00, ?it/s]"
      ]
     },
     "metadata": {},
     "output_type": "display_data"
    },
    {
     "name": "stdout",
     "output_type": "stream",
     "text": [
      "val loss: 0.797\n",
      "val acc: 0.777\n",
      "train loss: 0.190\n",
      "train acc: 0.940\n"
     ]
    },
    {
     "data": {
      "application/vnd.jupyter.widget-view+json": {
       "model_id": "6b4bde85d9d34701851cf48c982a8e19",
       "version_major": 2,
       "version_minor": 0
      },
      "text/plain": [
       "Validating: 0it [00:00, ?it/s]"
      ]
     },
     "metadata": {},
     "output_type": "display_data"
    },
    {
     "name": "stdout",
     "output_type": "stream",
     "text": [
      "val loss: 0.708\n",
      "val acc: 0.796\n",
      "train loss: 0.194\n",
      "train acc: 0.942\n"
     ]
    },
    {
     "data": {
      "application/vnd.jupyter.widget-view+json": {
       "model_id": "edee8c44dba94fa48cb05bf02604a7e5",
       "version_major": 2,
       "version_minor": 0
      },
      "text/plain": [
       "Validating: 0it [00:00, ?it/s]"
      ]
     },
     "metadata": {},
     "output_type": "display_data"
    },
    {
     "name": "stdout",
     "output_type": "stream",
     "text": [
      "val loss: 0.758\n",
      "val acc: 0.784\n",
      "train loss: 0.158\n",
      "train acc: 0.953\n"
     ]
    },
    {
     "data": {
      "application/vnd.jupyter.widget-view+json": {
       "model_id": "1b35edd37fca4784adce2208f55b4a7d",
       "version_major": 2,
       "version_minor": 0
      },
      "text/plain": [
       "Validating: 0it [00:00, ?it/s]"
      ]
     },
     "metadata": {},
     "output_type": "display_data"
    },
    {
     "name": "stdout",
     "output_type": "stream",
     "text": [
      "val loss: 1.493\n",
      "val acc: 0.689\n",
      "train loss: 0.104\n",
      "train acc: 0.969\n"
     ]
    },
    {
     "data": {
      "application/vnd.jupyter.widget-view+json": {
       "model_id": "c22859056a074e029eb7a7e7b3c1ac01",
       "version_major": 2,
       "version_minor": 0
      },
      "text/plain": [
       "Validating: 0it [00:00, ?it/s]"
      ]
     },
     "metadata": {},
     "output_type": "display_data"
    },
    {
     "name": "stdout",
     "output_type": "stream",
     "text": [
      "val loss: 0.741\n",
      "val acc: 0.795\n",
      "train loss: 0.093\n",
      "train acc: 0.974\n"
     ]
    },
    {
     "data": {
      "application/vnd.jupyter.widget-view+json": {
       "model_id": "0c9b0233832441109859b7eb7cf4b021",
       "version_major": 2,
       "version_minor": 0
      },
      "text/plain": [
       "Validating: 0it [00:00, ?it/s]"
      ]
     },
     "metadata": {},
     "output_type": "display_data"
    },
    {
     "name": "stdout",
     "output_type": "stream",
     "text": [
      "val loss: 0.778\n",
      "val acc: 0.795\n",
      "train loss: 0.060\n",
      "train acc: 0.985\n"
     ]
    },
    {
     "data": {
      "application/vnd.jupyter.widget-view+json": {
       "model_id": "8f765f4215094af4bad0eb906a0fdb9d",
       "version_major": 2,
       "version_minor": 0
      },
      "text/plain": [
       "Validating: 0it [00:00, ?it/s]"
      ]
     },
     "metadata": {},
     "output_type": "display_data"
    },
    {
     "name": "stdout",
     "output_type": "stream",
     "text": [
      "val loss: 0.728\n",
      "val acc: 0.806\n",
      "train loss: 0.065\n",
      "train acc: 0.985\n"
     ]
    },
    {
     "data": {
      "application/vnd.jupyter.widget-view+json": {
       "model_id": "96fd4ad3d31049e3952cd982afecbfa8",
       "version_major": 2,
       "version_minor": 0
      },
      "text/plain": [
       "Validating: 0it [00:00, ?it/s]"
      ]
     },
     "metadata": {},
     "output_type": "display_data"
    },
    {
     "name": "stdout",
     "output_type": "stream",
     "text": [
      "val loss: 0.732\n",
      "val acc: 0.808\n",
      "train loss: 0.026\n",
      "train acc: 0.995\n"
     ]
    },
    {
     "data": {
      "application/vnd.jupyter.widget-view+json": {
       "model_id": "7ab7325944b54492ae1e3d0c9529ad92",
       "version_major": 2,
       "version_minor": 0
      },
      "text/plain": [
       "Validating: 0it [00:00, ?it/s]"
      ]
     },
     "metadata": {},
     "output_type": "display_data"
    },
    {
     "name": "stdout",
     "output_type": "stream",
     "text": [
      "val loss: 0.720\n",
      "val acc: 0.813\n",
      "train loss: 0.018\n",
      "train acc: 0.997\n"
     ]
    },
    {
     "data": {
      "application/vnd.jupyter.widget-view+json": {
       "model_id": "af9f848fd9ee496692582e73bb078a1c",
       "version_major": 2,
       "version_minor": 0
      },
      "text/plain": [
       "Validating: 0it [00:00, ?it/s]"
      ]
     },
     "metadata": {},
     "output_type": "display_data"
    },
    {
     "name": "stdout",
     "output_type": "stream",
     "text": [
      "val loss: 0.729\n",
      "val acc: 0.815\n",
      "train loss: 0.012\n",
      "train acc: 0.999\n"
     ]
    },
    {
     "data": {
      "application/vnd.jupyter.widget-view+json": {
       "model_id": "b7aa0f0889904c538d93a8c6987209b7",
       "version_major": 2,
       "version_minor": 0
      },
      "text/plain": [
       "Validating: 0it [00:00, ?it/s]"
      ]
     },
     "metadata": {},
     "output_type": "display_data"
    },
    {
     "name": "stdout",
     "output_type": "stream",
     "text": [
      "val loss: 0.735\n",
      "val acc: 0.816\n",
      "train loss: 0.008\n",
      "train acc: 1.000\n"
     ]
    },
    {
     "data": {
      "application/vnd.jupyter.widget-view+json": {
       "model_id": "247dd443747447cf905a547e9bf6355c",
       "version_major": 2,
       "version_minor": 0
      },
      "text/plain": [
       "Validating: 0it [00:00, ?it/s]"
      ]
     },
     "metadata": {},
     "output_type": "display_data"
    },
    {
     "name": "stdout",
     "output_type": "stream",
     "text": [
      "val loss: 0.728\n",
      "val acc: 0.817\n",
      "train loss: 0.006\n",
      "train acc: 1.000\n"
     ]
    },
    {
     "data": {
      "application/vnd.jupyter.widget-view+json": {
       "model_id": "48be7b4ec436437990edddc4099354e0",
       "version_major": 2,
       "version_minor": 0
      },
      "text/plain": [
       "Validating: 0it [00:00, ?it/s]"
      ]
     },
     "metadata": {},
     "output_type": "display_data"
    },
    {
     "name": "stdout",
     "output_type": "stream",
     "text": [
      "val loss: 0.727\n",
      "val acc: 0.820\n",
      "train loss: 0.005\n",
      "train acc: 1.000\n"
     ]
    },
    {
     "data": {
      "application/vnd.jupyter.widget-view+json": {
       "model_id": "5c28eaa71ad648c18e255146ff85d137",
       "version_major": 2,
       "version_minor": 0
      },
      "text/plain": [
       "Validating: 0it [00:00, ?it/s]"
      ]
     },
     "metadata": {},
     "output_type": "display_data"
    },
    {
     "name": "stdout",
     "output_type": "stream",
     "text": [
      "val loss: 0.728\n",
      "val acc: 0.820\n",
      "train loss: 0.003\n",
      "train acc: 1.000\n"
     ]
    },
    {
     "data": {
      "application/vnd.jupyter.widget-view+json": {
       "model_id": "e6e3e4b12c9f4afbbcbb49489b37f289",
       "version_major": 2,
       "version_minor": 0
      },
      "text/plain": [
       "Validating: 0it [00:00, ?it/s]"
      ]
     },
     "metadata": {},
     "output_type": "display_data"
    },
    {
     "name": "stdout",
     "output_type": "stream",
     "text": [
      "val loss: 0.731\n",
      "val acc: 0.820\n",
      "train loss: 0.003\n",
      "train acc: 1.000\n"
     ]
    },
    {
     "data": {
      "application/vnd.jupyter.widget-view+json": {
       "model_id": "e441eb2f3b144e26839e534eafb8aaf4",
       "version_major": 2,
       "version_minor": 0
      },
      "text/plain": [
       "Validating: 0it [00:00, ?it/s]"
      ]
     },
     "metadata": {},
     "output_type": "display_data"
    },
    {
     "name": "stdout",
     "output_type": "stream",
     "text": [
      "val loss: 0.736\n",
      "val acc: 0.821\n",
      "train loss: 0.002\n",
      "train acc: 1.000\n"
     ]
    },
    {
     "data": {
      "application/vnd.jupyter.widget-view+json": {
       "model_id": "61719782038543f2aa31da3e77732b08",
       "version_major": 2,
       "version_minor": 0
      },
      "text/plain": [
       "Validating: 0it [00:00, ?it/s]"
      ]
     },
     "metadata": {},
     "output_type": "display_data"
    },
    {
     "name": "stdout",
     "output_type": "stream",
     "text": [
      "val loss: 0.740\n",
      "val acc: 0.821\n",
      "train loss: 0.002\n",
      "train acc: 1.000\n"
     ]
    },
    {
     "data": {
      "application/vnd.jupyter.widget-view+json": {
       "model_id": "a286e7655d544289a541bd7750e9f3ea",
       "version_major": 2,
       "version_minor": 0
      },
      "text/plain": [
       "Validating: 0it [00:00, ?it/s]"
      ]
     },
     "metadata": {},
     "output_type": "display_data"
    },
    {
     "name": "stdout",
     "output_type": "stream",
     "text": [
      "val loss: 0.741\n",
      "val acc: 0.821\n",
      "train loss: 0.002\n",
      "train acc: 1.000\n"
     ]
    },
    {
     "data": {
      "application/vnd.jupyter.widget-view+json": {
       "model_id": "ccb38c67c4174e0fa1b31fdab0aa024a",
       "version_major": 2,
       "version_minor": 0
      },
      "text/plain": [
       "Validating: 0it [00:00, ?it/s]"
      ]
     },
     "metadata": {},
     "output_type": "display_data"
    },
    {
     "name": "stdout",
     "output_type": "stream",
     "text": [
      "val loss: 0.744\n",
      "val acc: 0.821\n",
      "train loss: 0.002\n",
      "train acc: 1.000\n"
     ]
    },
    {
     "data": {
      "application/vnd.jupyter.widget-view+json": {
       "model_id": "22d717aac8904a05a47f4d2d7328d557",
       "version_major": 2,
       "version_minor": 0
      },
      "text/plain": [
       "Validating: 0it [00:00, ?it/s]"
      ]
     },
     "metadata": {},
     "output_type": "display_data"
    },
    {
     "name": "stdout",
     "output_type": "stream",
     "text": [
      "val loss: 0.745\n",
      "val acc: 0.821\n",
      "train loss: 0.002\n",
      "train acc: 1.000\n"
     ]
    },
    {
     "data": {
      "application/vnd.jupyter.widget-view+json": {
       "model_id": "9dcfaf5d7206493dbdf395bf31a5dd12",
       "version_major": 2,
       "version_minor": 0
      },
      "text/plain": [
       "Validating: 0it [00:00, ?it/s]"
      ]
     },
     "metadata": {},
     "output_type": "display_data"
    },
    {
     "name": "stdout",
     "output_type": "stream",
     "text": [
      "val loss: 0.749\n",
      "val acc: 0.820\n",
      "train loss: 0.002\n",
      "train acc: 1.000\n"
     ]
    },
    {
     "data": {
      "application/vnd.jupyter.widget-view+json": {
       "model_id": "da34ae3eaa3a4bc6aec4bd8f30c8b1a7",
       "version_major": 2,
       "version_minor": 0
      },
      "text/plain": [
       "Validating: 0it [00:00, ?it/s]"
      ]
     },
     "metadata": {},
     "output_type": "display_data"
    },
    {
     "name": "stdout",
     "output_type": "stream",
     "text": [
      "val loss: 0.751\n",
      "val acc: 0.820\n",
      "train loss: 0.001\n",
      "train acc: 1.000\n"
     ]
    },
    {
     "data": {
      "application/vnd.jupyter.widget-view+json": {
       "model_id": "c0dbf56dfc634ca09996cb6b5857fbb2",
       "version_major": 2,
       "version_minor": 0
      },
      "text/plain": [
       "Validating: 0it [00:00, ?it/s]"
      ]
     },
     "metadata": {},
     "output_type": "display_data"
    },
    {
     "name": "stdout",
     "output_type": "stream",
     "text": [
      "val loss: 0.753\n",
      "val acc: 0.821\n",
      "train loss: 0.001\n",
      "train acc: 1.000\n"
     ]
    },
    {
     "data": {
      "application/vnd.jupyter.widget-view+json": {
       "model_id": "5500db5f35e04a60ae4aa58c1b2c0488",
       "version_major": 2,
       "version_minor": 0
      },
      "text/plain": [
       "Validating: 0it [00:00, ?it/s]"
      ]
     },
     "metadata": {},
     "output_type": "display_data"
    },
    {
     "name": "stdout",
     "output_type": "stream",
     "text": [
      "val loss: 0.755\n",
      "val acc: 0.821\n",
      "train loss: 0.001\n",
      "train acc: 1.000\n"
     ]
    },
    {
     "data": {
      "application/vnd.jupyter.widget-view+json": {
       "model_id": "0b63c0d31fcd4f12876c19318201daf9",
       "version_major": 2,
       "version_minor": 0
      },
      "text/plain": [
       "Validating: 0it [00:00, ?it/s]"
      ]
     },
     "metadata": {},
     "output_type": "display_data"
    },
    {
     "name": "stdout",
     "output_type": "stream",
     "text": [
      "val loss: 0.757\n",
      "val acc: 0.820\n",
      "train loss: 0.001\n",
      "train acc: 1.000\n"
     ]
    },
    {
     "data": {
      "application/vnd.jupyter.widget-view+json": {
       "model_id": "eed5158e2c9a4f88b6a0414e8456a38c",
       "version_major": 2,
       "version_minor": 0
      },
      "text/plain": [
       "Validating: 0it [00:00, ?it/s]"
      ]
     },
     "metadata": {},
     "output_type": "display_data"
    },
    {
     "name": "stdout",
     "output_type": "stream",
     "text": [
      "val loss: 0.758\n",
      "val acc: 0.821\n",
      "train loss: 0.001\n",
      "train acc: 1.000\n"
     ]
    },
    {
     "data": {
      "application/vnd.jupyter.widget-view+json": {
       "model_id": "fd1e2804f03a40c88b7ad4aba144bbba",
       "version_major": 2,
       "version_minor": 0
      },
      "text/plain": [
       "Validating: 0it [00:00, ?it/s]"
      ]
     },
     "metadata": {},
     "output_type": "display_data"
    },
    {
     "name": "stdout",
     "output_type": "stream",
     "text": [
      "val loss: 0.761\n",
      "val acc: 0.820\n",
      "train loss: 0.001\n",
      "train acc: 1.000\n"
     ]
    },
    {
     "data": {
      "application/vnd.jupyter.widget-view+json": {
       "model_id": "230b244012cc42d1b76afb92ce302688",
       "version_major": 2,
       "version_minor": 0
      },
      "text/plain": [
       "Validating: 0it [00:00, ?it/s]"
      ]
     },
     "metadata": {},
     "output_type": "display_data"
    },
    {
     "name": "stdout",
     "output_type": "stream",
     "text": [
      "val loss: 0.763\n",
      "val acc: 0.820\n",
      "train loss: 0.001\n",
      "train acc: 1.000\n"
     ]
    },
    {
     "data": {
      "text/html": [
       "<br/>Waiting for W&B process to finish, PID 24996<br/>Program ended successfully."
      ],
      "text/plain": [
       "<IPython.core.display.HTML object>"
      ]
     },
     "metadata": {},
     "output_type": "display_data"
    },
    {
     "data": {
      "application/vnd.jupyter.widget-view+json": {
       "model_id": "7164dc44f43c4df29aaf7cb483ce8966",
       "version_major": 2,
       "version_minor": 0
      },
      "text/plain": [
       "VBox(children=(Label(value=' 0.00MB of 0.00MB uploaded (0.00MB deduped)\\r'), FloatProgress(value=1.0, max=1.0)…"
      ]
     },
     "metadata": {},
     "output_type": "display_data"
    },
    {
     "data": {
      "text/html": [
       "Find user logs for this run at: <code>/notebooks/code/hw0/wandb/run-20210211_022658-34i5rlb1/logs/debug.log</code>"
      ],
      "text/plain": [
       "<IPython.core.display.HTML object>"
      ]
     },
     "metadata": {},
     "output_type": "display_data"
    },
    {
     "data": {
      "text/html": [
       "Find internal logs for this run at: <code>/notebooks/code/hw0/wandb/run-20210211_022658-34i5rlb1/logs/debug-internal.log</code>"
      ],
      "text/plain": [
       "<IPython.core.display.HTML object>"
      ]
     },
     "metadata": {},
     "output_type": "display_data"
    },
    {
     "data": {
      "text/html": [
       "<h3>Run summary:</h3><br/><style>\n",
       "    table.wandb td:nth-child(1) { padding: 0 10px; text-align: right }\n",
       "    </style><table class=\"wandb\">\n",
       "<tr><td>train_loss</td><td>0.00041</td></tr><tr><td>train_acc</td><td>1.0</td></tr><tr><td>train_tps_0</td><td>3.0</td></tr><tr><td>train_sups_0</td><td>3.0</td></tr><tr><td>train_tps_1</td><td>10.0</td></tr><tr><td>train_sups_1</td><td>10.0</td></tr><tr><td>train_tps_2</td><td>7.0</td></tr><tr><td>train_sups_2</td><td>7.0</td></tr><tr><td>train_tps_3</td><td>8.0</td></tr><tr><td>train_sups_3</td><td>8.0</td></tr><tr><td>train_tps_4</td><td>7.0</td></tr><tr><td>train_sups_4</td><td>7.0</td></tr><tr><td>train_tps_5</td><td>4.0</td></tr><tr><td>train_sups_5</td><td>4.0</td></tr><tr><td>train_tps_6</td><td>5.0</td></tr><tr><td>train_sups_6</td><td>5.0</td></tr><tr><td>train_tps_7</td><td>4.0</td></tr><tr><td>train_sups_7</td><td>4.0</td></tr><tr><td>train_tps_8</td><td>13.0</td></tr><tr><td>train_sups_8</td><td>13.0</td></tr><tr><td>train_tps_9</td><td>3.0</td></tr><tr><td>train_sups_9</td><td>3.0</td></tr><tr><td>epoch</td><td>49</td></tr><tr><td>_runtime</td><td>792</td></tr><tr><td>_timestamp</td><td>1613011210</td></tr><tr><td>_step</td><td>15649</td></tr><tr><td>val_loss</td><td>0.7705</td></tr><tr><td>val_acc</td><td>0.819</td></tr><tr><td>val_tps_0</td><td>813.0</td></tr><tr><td>val_sups_0</td><td>973.0</td></tr><tr><td>val_tps_1</td><td>909.0</td></tr><tr><td>val_sups_1</td><td>1010.0</td></tr><tr><td>val_tps_2</td><td>731.0</td></tr><tr><td>val_sups_2</td><td>1006.0</td></tr><tr><td>val_tps_3</td><td>650.0</td></tr><tr><td>val_sups_3</td><td>967.0</td></tr><tr><td>val_tps_4</td><td>756.0</td></tr><tr><td>val_sups_4</td><td>963.0</td></tr><tr><td>val_tps_5</td><td>759.0</td></tr><tr><td>val_sups_5</td><td>1024.0</td></tr><tr><td>val_tps_6</td><td>916.0</td></tr><tr><td>val_sups_6</td><td>1025.0</td></tr><tr><td>val_tps_7</td><td>848.0</td></tr><tr><td>val_sups_7</td><td>1035.0</td></tr><tr><td>val_tps_8</td><td>897.0</td></tr><tr><td>val_sups_8</td><td>998.0</td></tr><tr><td>val_tps_9</td><td>911.0</td></tr><tr><td>val_sups_9</td><td>999.0</td></tr></table>"
      ],
      "text/plain": [
       "<IPython.core.display.HTML object>"
      ]
     },
     "metadata": {},
     "output_type": "display_data"
    },
    {
     "data": {
      "text/html": [
       "<h3>Run history:</h3><br/><style>\n",
       "    table.wandb td:nth-child(1) { padding: 0 10px; text-align: right }\n",
       "    </style><table class=\"wandb\">\n",
       "<tr><td>train_loss</td><td>██▆▅▅▄▄▄▄▅▃▃▃▃▂▂▂▁▂▁▁▁▁▁▁▁▁▁▁▁▁▁▁▁▁▁▁▁▁▁</td></tr><tr><td>train_acc</td><td>▁▂▃▄▅▅▅▅▅▅▆▇▆▇▇▇██▇█████████████████████</td></tr><tr><td>train_tps_0</td><td>▁▂▆▅▅▆▆▅▄▄▄▄▅▅▆▇▃▅▄▅▅▅▆▅█▄▆▄█▆▇▆▄▆▇▆▇▅▇█</td></tr><tr><td>train_sups_0</td><td>▃▅▅▆▄▆▆▆▂▃▃▄▅▅▅▇▁▃▂▃▄▃▅▃█▂▅▂▇▅▆▅▂▅▆▅▇▄▆▇</td></tr><tr><td>train_tps_1</td><td>▁▅▂▅▄▄█▅▆▄▅▄▃▇▆▅▇▆▄▅▅▆▆▅▄▅▆▇▆▇▆▄▆▅▅▆▅▆▇▆</td></tr><tr><td>train_sups_1</td><td>▂▃▁▃▃▃█▃▅▃▂▁▁▆▄▃▅▅▁▃▂▃▄▃▁▃▃▅▄▆▃▁▅▃▃▅▃▅▅▃</td></tr><tr><td>train_tps_2</td><td>▁▁▃▄▅▃▃▅▆▂▄▆▅▅▃▅▅▇▆▆▅▇▆▃▅▅▅▇▅▆▆▅▄▆▅▆▅▅▅█</td></tr><tr><td>train_sups_2</td><td>▅▅▂▄▇▄▄▅▇▅▆▅▆▄▂▄▄▆▅▅▄▇▅▁▄▄▃▆▃▅▅▄▃▅▃▅▃▄▃█</td></tr><tr><td>train_tps_3</td><td>▄▁▁▁▁▂▂▂▃▂▁▄▁▃▄▃▄▅▃▅▄▆▅▅▇▆▆▇▄▄▇▇█▇▄▄▄█▅▄</td></tr><tr><td>train_sups_3</td><td>▇▅▅▅▂▅▁▅▇▅▃▆▃▃▇▃▂▃▃▄▃▅▄▄▇▅▅▆▃▃▇▇█▆▂▃▂▇▅▃</td></tr><tr><td>train_tps_4</td><td>▁▇▄▃▂▅▃▃▄▂▆▆▆▅▇▄▇▃▄▆▆▃█▆▅▄▅▇▆▅▄▆▆▅▄▅▄▅▅▄</td></tr><tr><td>train_sups_4</td><td>▂█▇▅▁▇▃▁▅▆▅▇▆▇▇▄▇▁▃▅▅▂█▆▅▃▄▇▅▅▃▅▆▄▃▄▃▄▄▃</td></tr><tr><td>train_tps_5</td><td>▂▁▁▅▅▄▅▃▅▆▅▅▅▇▆▆▆▇▅▄█▅▃▆▅▆▇▃█▆▃▄▃▆▄▄▆▆▅▆</td></tr><tr><td>train_sups_5</td><td>▅▃▃▅▆▂▆▃▄▆▃▄▃▇▅▅▄▆▄▃█▄▁▅▄▄▆▁▇▅▁▂▁▅▂▂▅▅▃▅</td></tr><tr><td>train_tps_6</td><td>▃▁▅▄▅▅▄▃▃▆▆▄▆▃▃▄▆▅▆▅▆▃▄▅▄▅▅▅▆▅▅▅▃▆█▃▅▅▅▄</td></tr><tr><td>train_sups_6</td><td>▄▅▇▄▅▄▄▄▂▆▅▄▅▃▂▂▆▃▆▄▅▂▃▄▃▄▄▃▅▄▄▃▁▅█▂▄▃▄▂</td></tr><tr><td>train_tps_7</td><td>▁▂▅▃▄▄▄▅▅▄▄▆▅▄▅▅▄▆▇▇▄▆▆▆▄█▄▇▄▅▃▇▇▄▅▇█▅▆▅</td></tr><tr><td>train_sups_7</td><td>▄▄█▂▂▄▂▅▇▃▅▅▄▂▄▅▂▅▅▆▁▆▄▅▂▇▁▆▂▃▁▅▆▁▃▆▇▃▅▃</td></tr><tr><td>train_tps_8</td><td>▂▂▁▃▅▄▄▆▃▄▇▇▆▃▆▅▇▅▇▇▄▅▆█▄▃▆▆▃▂▇▆▅▄▇██▃▆▇</td></tr><tr><td>train_sups_8</td><td>▆▃▂▆▇▃▅█▂▄█▆█▂▆▅▇▅▇▇▃▅▅█▃▂▅▆▂▁▇▆▅▃▇▇▇▂▆▇</td></tr><tr><td>train_tps_9</td><td>▄▁▃▃▄▅▃▄▃▄▃▃▅▄▃▆▆▆▇▆█▇▅▅▇█▇▄▆▇▇▅█▆█▇▅▇▅▄</td></tr><tr><td>train_sups_9</td><td>▄▂▄▃▆▄▄▄▂▂▂▁▄▃▂▅▅▆▆▅▇▇▄▄▆█▆▂▅▆▇▄▇▅█▆▃▆▄▂</td></tr><tr><td>epoch</td><td>▁▁▁▁▂▂▂▂▂▃▃▃▃▃▃▄▄▄▄▄▅▅▅▅▅▅▆▆▆▆▆▇▇▇▇▇▇███</td></tr><tr><td>_runtime</td><td>▁▁▁▁▂▂▂▂▂▃▃▃▃▃▃▄▄▄▄▄▅▅▅▅▅▅▆▆▆▆▆▇▇▇▇▇▇███</td></tr><tr><td>_timestamp</td><td>▁▁▁▁▂▂▂▂▂▃▃▃▃▃▃▄▄▄▄▄▅▅▅▅▅▅▆▆▆▆▆▇▇▇▇▇▇███</td></tr><tr><td>_step</td><td>▁▁▁▁▂▂▂▂▂▃▃▃▃▃▃▄▄▄▄▄▅▅▅▅▅▅▆▆▆▆▆▆▇▇▇▇▇███</td></tr><tr><td>val_loss</td><td>██▆▆▃▃▃▂▂▂▂▂▂▁▁▁▁▁▁▁▄▁▁▁▁▁▁▁▁▁▁▁▁▁▁▁▁▁▁▁</td></tr><tr><td>val_acc</td><td>▁▁▃▄▅▅▆▆▆▆▇▇▇▇▇▇█▇▇█▆███████████████████</td></tr><tr><td>val_tps_0</td><td>▁▂▃▃▃▃▄▄▅▅▆▅▅▅▅▇▇▆▇▇▅▇▇██▇██████████████</td></tr><tr><td>val_sups_0</td><td>▁▁▁▁▁▁▁▁▁▁▁▁▁▁▁▁▁▁▁▁▁▁▁▁▁▁▁▁▁▁▁▁▁▁▁▁▁▁▁▁</td></tr><tr><td>val_tps_1</td><td>▁▂▅▆▆▇▇▇███████████▇▇▇▇▇▇▇▇▇▇▇▇▇▇▇▇▇▇▇▇▇</td></tr><tr><td>val_sups_1</td><td>▁▁▁▁▁▁▁▁▁▁▁▁▁▁▁▁▁▁▁▁▁▁▁▁▁▁▁▁▁▁▁▁▁▁▁▁▁▁▁▁</td></tr><tr><td>val_tps_2</td><td>▁▂▆▇▇▆▆▅▇▇▆█▆▆█▇█▇▇▇▆▇▇▇████████████████</td></tr><tr><td>val_sups_2</td><td>▁▁▁▁▁▁▁▁▁▁▁▁▁▁▁▁▁▁▁▁▁▁▁▁▁▁▁▁▁▁▁▁▁▁▁▁▁▁▁▁</td></tr><tr><td>val_tps_3</td><td>▄▁▄▄▆█▇███▇▇██▇█▆▇▄▆▅▆▅▆▇▆▆▇▇▇▇▇▇▇▇▇▇▇▇▇</td></tr><tr><td>val_sups_3</td><td>▁▁▁▁▁▁▁▁▁▁▁▁▁▁▁▁▁▁▁▁▁▁▁▁▁▁▁▁▁▁▁▁▁▁▁▁▁▁▁▁</td></tr><tr><td>val_tps_4</td><td>▆▅▄▃▂▃▁▂▃▄▅▅█▆▇█▆▇▆▇▅██▆▆▆▇▇▇▇▇▇▇▇▇▇▇▇▇▇</td></tr><tr><td>val_sups_4</td><td>▁▁▁▁▁▁▁▁▁▁▁▁▁▁▁▁▁▁▁▁▁▁▁▁▁▁▁▁▁▁▁▁▁▁▁▁▁▁▁▁</td></tr><tr><td>val_tps_5</td><td>▁▁▁▁▂▃▂▃▄▄▄▃▃▆▆▆▇▇▇▇▇███████████████████</td></tr><tr><td>val_sups_5</td><td>▁▁▁▁▁▁▁▁▁▁▁▁▁▁▁▁▁▁▁▁▁▁▁▁▁▁▁▁▁▁▁▁▁▁▁▁▁▁▁▁</td></tr><tr><td>val_tps_6</td><td>▁▃▄▆▆▆▇▇▇▇▆▇▆▇▆▆▇▇▇▇█▆▇▇▇▇▇▇▇▇▇▇▇▇▇▇▇▇▇▇</td></tr><tr><td>val_sups_6</td><td>▁▁▁▁▁▁▁▁▁▁▁▁▁▁▁▁▁▁▁▁▁▁▁▁▁▁▁▁▁▁▁▁▁▁▁▁▁▁▁▁</td></tr><tr><td>val_tps_7</td><td>▁▁▃▃▆▆▆▆▇▇█▇▇▇▇▆▇▇█▇▆▆▇▇▇▇▇▇▇▇▇▇▇▇▇▇▇▇▇▇</td></tr><tr><td>val_sups_7</td><td>▁▁▁▁▁▁▁▁▁▁▁▁▁▁▁▁▁▁▁▁▁▁▁▁▁▁▁▁▁▁▁▁▁▁▁▁▁▁▁▁</td></tr><tr><td>val_tps_8</td><td>▁▃▅▆▇██▇▇█▇▇█▇▇▇▇▇▇▇▂▇▇▇▇▇▇▇▇▇▇▇▇▇▇▇▇▇▇▇</td></tr><tr><td>val_sups_8</td><td>▁▁▁▁▁▁▁▁▁▁▁▁▁▁▁▁▁▁▁▁▁▁▁▁▁▁▁▁▁▁▁▁▁▁▁▁▁▁▁▁</td></tr><tr><td>val_tps_9</td><td>▁▁▁▁▂▅▅▆▆▆▆▇▇▇▇▇▇▇▇▇▇███████████████████</td></tr><tr><td>val_sups_9</td><td>▁▁▁▁▁▁▁▁▁▁▁▁▁▁▁▁▁▁▁▁▁▁▁▁▁▁▁▁▁▁▁▁▁▁▁▁▁▁▁▁</td></tr></table><br/>"
      ],
      "text/plain": [
       "<IPython.core.display.HTML object>"
      ]
     },
     "metadata": {},
     "output_type": "display_data"
    },
    {
     "data": {
      "text/html": [
       "Synced 5 W&B file(s), 0 media file(s), 0 artifact file(s) and 1 other file(s)"
      ],
      "text/plain": [
       "<IPython.core.display.HTML object>"
      ]
     },
     "metadata": {},
     "output_type": "display_data"
    },
    {
     "data": {
      "text/html": [
       "\n",
       "                    <br/>Synced <strong style=\"color:#cdcd00\">q1-robustnesss-augmented</strong>: <a href=\"https://wandb.ai/shlomihod/mltheoryseminar-hw0/runs/34i5rlb1\" target=\"_blank\">https://wandb.ai/shlomihod/mltheoryseminar-hw0/runs/34i5rlb1</a><br/>\n",
       "                "
      ],
      "text/plain": [
       "<IPython.core.display.HTML object>"
      ]
     },
     "metadata": {},
     "output_type": "display_data"
    }
   ],
   "source": [
    "aug_model = LitMyrtle5()\n",
    "\n",
    "aug_cifar10_dm = instantiate_datamodule(train_transforms=[torchvision.transforms.RandomVerticalFlip(0.5)])\n",
    "\n",
    "aug_wandb_logger = WandbLogger(name='q1-robustnesss-augmented', project='mltheoryseminar-hw0')\n",
    "aug_trainer = Trainer(max_epochs=50, gpus=1, progress_bar_refresh_rate=20, logger=aug_wandb_logger)\n",
    "\n",
    "aug_trainer.fit(aug_model, aug_cifar10_dm)\n",
    "\n",
    "wandb.finish();"
   ]
  },
  {
   "cell_type": "code",
   "execution_count": 34,
   "metadata": {},
   "outputs": [
    {
     "name": "stderr",
     "output_type": "stream",
     "text": [
      "GPU available: True, used: True\n",
      "TPU available: None, using: 0 TPU cores\n",
      "LOCAL_RANK: 0 - CUDA_VISIBLE_DEVICES: [0]\n"
     ]
    },
    {
     "data": {
      "application/vnd.jupyter.widget-view+json": {
       "model_id": "beef425601474d5a809e6a4f31fc3cfb",
       "version_major": 2,
       "version_minor": 0
      },
      "text/plain": [
       "Testing: 0it [00:00, ?it/s]"
      ]
     },
     "metadata": {},
     "output_type": "display_data"
    },
    {
     "data": {
      "application/vnd.jupyter.widget-view+json": {
       "model_id": "0c0da42f82e244c5be228e39f5d50bb7",
       "version_major": 2,
       "version_minor": 0
      },
      "text/plain": [
       "Testing: 0it [00:00, ?it/s]"
      ]
     },
     "metadata": {},
     "output_type": "display_data"
    },
    {
     "name": "stdout",
     "output_type": "stream",
     "text": [
      "Original CIFAR-10 Test Accuracy:  81.91999793052673\n",
      "Vertially flipped CIFAR-10 Test Accuracy:  81.51000142097473\n"
     ]
    },
    {
     "data": {
      "text/plain": [
       "Automobile   -0.600000\n",
       "Horse        -0.300000\n",
       "Frog         -0.200000\n",
       "Airplane      0.000000\n",
       "Bird          0.000000\n",
       "Truck         0.200000\n",
       "Overall       0.409997\n",
       "Ship          0.800000\n",
       "Cat           0.900000\n",
       "Dog           1.300000\n",
       "Deer          2.000000\n",
       "Name: diff, dtype: float64"
      ]
     },
     "metadata": {},
     "output_type": "display_data"
    },
    {
     "name": "stdout",
     "output_type": "stream",
     "text": [
      "XXXXX figures/q1-aug.png\n"
     ]
    },
    {
     "data": {
      "image/png": "[encoded data removed]",
      "text/plain": [
       "<Figure size 432x288 with 1 Axes>"
      ]
     },
     "metadata": {
      "needs_background": "light"
     },
     "output_type": "display_data"
    }
   ],
   "source": [
    "report_vertical_flip_robustness_evaluation(aug_model, path='figures/q1-aug.png');"
   ]
  },
  {
   "cell_type": "markdown",
   "metadata": {},
   "source": [
    "![](./figures/cifar10.png)"
   ]
  },
  {
   "cell_type": "markdown",
   "metadata": {},
   "source": [
    "## Q2: Random Labels"
   ]
  },
  {
   "cell_type": "code",
   "execution_count": 10,
   "metadata": {},
   "outputs": [],
   "source": [
    "from pl_bolts.datasets.cifar10_dataset import CIFAR10\n",
    "from pl_bolts.datamodules import CIFAR10DataModule\n",
    "\n",
    "def random_label_cifar10_datamodule_factory(prob, seed=42):\n",
    "\n",
    "    class RandomLabelCIFAR10(CIFAR10):\n",
    "        def __init__(self, *args, **kwds):\n",
    "            super().__init__(*args, **kwds)\n",
    "\n",
    "            np.random.seed(seed)\n",
    "\n",
    "            self.is_randomized = np.random.choice([True, False],\n",
    "                                                  size=len(self.targets),\n",
    "                                                  p=[prob, 1-prob]) \n",
    "\n",
    "            self.random_labels = np.random.randint(0, len(self.labels),\n",
    "                                                   size=len(self.targets))\n",
    "\n",
    "        def __getitem__(self, idx):\n",
    "            img, target = super().__getitem__(idx)\n",
    "            target = self.random_labels[idx] if self.is_randomized[idx] else target\n",
    "            return img, target\n",
    "\n",
    "\n",
    "    class RandomLabelCIFAR10DataModule(CIFAR10DataModule):\n",
    "        dataset_cls = RandomLabelCIFAR10\n",
    "\n",
    "    \n",
    "    return RandomLabelCIFAR10DataModule\n",
    "\n",
    "\n",
    "def instantiate_random_labels_datamodule(prob=0, seed=42, batch_size=128):\n",
    "    \n",
    "    transforms = torchvision.transforms.Compose([torchvision.transforms.ToTensor(),\n",
    "                                                 cifar10_normalization()])\n",
    "\n",
    "    cifar10_dm = random_label_cifar10_datamodule_factory(prob, seed)(\n",
    "        batch_size=batch_size,\n",
    "        train_transforms=transforms,\n",
    "        test_transforms=transforms,\n",
    "        val_transforms=transforms,\n",
    "    )\n",
    "\n",
    "    return cifar10_dm\n",
    "\n",
    "\n",
    "def test_random_labels_datamodule():\n",
    "    \n",
    "    dm0 = instantiate_random_labels_datamodule(0)\n",
    "    dm0.prepare_data()\n",
    "    dm0.setup('fit')\n",
    "\n",
    "    dm1 = instantiate_random_labels_datamodule(0.5)\n",
    "    dm1.prepare_data()\n",
    "    dm1.setup('fit')\n",
    "\n",
    "    hits = [np.mean(targets0.numpy() == targets1.numpy())\n",
    "            for (_, targets0), (_, targets1) in zip(dm0.train_dataloader(), dm1.train_dataloader())]\n",
    "\n",
    "    np.testing.assert_almost_equal(np.mean(hits), 0.5 * 1 + 0.5 * 0.1, decimal=2)\n",
    "\n",
    "\n",
    "test_random_labels_datamodule()"
   ]
  },
  {
   "cell_type": "code",
   "execution_count": 11,
   "metadata": {},
   "outputs": [],
   "source": [
    "if False:\n",
    "    for prob in [0, 0.5, 1]:\n",
    "        for c in [64, 4]:\n",
    "            for lr in 0.1**(np.arange(1, 4)):\n",
    "                name = f'q2-random-labels-p{prob}-c{c}'\n",
    "\n",
    "                dm = instantiate_random_labels_datamodule(prob=prob)\n",
    "                model = LitMyrtle5(c=c, lr=lr)\n",
    "\n",
    "                wandb_logger = WandbLogger(name=name, project='mltheoryseminar-hw0')\n",
    "                trainer = Trainer(max_epochs=100, gpus=1, progress_bar_refresh_rate=20, logger=wandb_logger)\n",
    "\n",
    "                trainer.fit(model, dm)\n",
    "                trainer.test(model, datamodule=dm, verbose=False)\n",
    "\n",
    "                wandb.finish();"
   ]
  },
  {
   "cell_type": "code",
   "execution_count": 12,
   "metadata": {},
   "outputs": [],
   "source": [
    "# https://wandb.ai/shlomihod/mltheoryseminar-hw0/table?workspace=user-\n",
    "# fitler for `q2` in name and remove the `hidden` tag\n",
    "\n",
    "RESULTS ={'p': {1: 0.0, 2: 0.0, 3: 0.5, 4: 1.0, 5: 0.5, 6: 1.0},\n",
    " 'c': {1: 64, 2: 4, 3: 4, 4: 4, 5: 64, 6: 64},\n",
    " 'train_acc': {1: 1.0, 2: 0.859375, 3: 0.5, 4: 0.296875, 5: 1.0, 6: 1.0},\n",
    " 'val_acc': {1: 0.8468999862670898,\n",
    "  2: 0.6521999835968018,\n",
    "  3: 0.2892000079154968,\n",
    "  4: 0.10329999774694444,\n",
    "  5: 0.3133000135421753,\n",
    "  6: 0.09700000286102296},\n",
    " 'test_acc': {1: 0.8400999903678894,\n",
    "  2: 0.6473000049591064,\n",
    "  3: 0.2930000126361847,\n",
    "  4: 0.09730000048875807,\n",
    "  5: 0.30959999561309814,\n",
    "  6: 0.10530000180006029},\n",
    " 'train_loss': {1: 8.783841622062027e-05,\n",
    "  2: 0.3708679378032684,\n",
    "  3: 1.578813910484314,\n",
    "  4: 1.9849663972854616,\n",
    "  5: 0.001846500439569354,\n",
    "  6: 0.00012222242366988212},\n",
    " 'val_loss': {1: 0.6908100843429565,\n",
    "  2: 1.0504761934280396,\n",
    "  3: 2.1919384002685547,\n",
    "  4: 2.4187171459198,\n",
    "  5: 4.138575077056885,\n",
    "  6: 6.51561260223388},\n",
    " 'test_loss': {1: 0.7412284016609192,\n",
    "  2: 1.0757910013198853,\n",
    "  3: 2.1741461753845215,\n",
    "  4: 2.4185917377471924,\n",
    "  5: 4.1815314292907715,\n",
    "  6: 6.439663410186768},\n",
    " 'epoch': {1: 99, 2: 99, 3: 99, 4: 99, 5: 55, 6: 199},\n",
    " 'lr': {1: 0.1, 2: 0.1, 3: 0.1, 4: 0.1, 5: 0.1, 6: 0.1}}\n",
    "\n",
    "random_label_results_df = pd.DataFrame(RESULTS)\n",
    "\n",
    "random_label_results_df['error_train'] = 1 - random_label_results_df['train_acc']\n",
    "random_label_results_df['error_test'] = 1 - random_label_results_df['test_acc']\n",
    "\n",
    "random_label_results_df = random_label_results_df[['p', 'c', 'error_train', 'error_test']]\n",
    "random_label_results_df['p'] = (random_label_results_df['p'] * 100).astype(int)\n",
    "\n",
    "\n",
    "long_random_label_results_df = random_label_results_df.melt(id_vars=['p', 'c'],\n",
    "                                                            value_vars=['error_train', 'error_test'],\n",
    "                                                            var_name='stage',\n",
    "                                                            value_name='error')\n",
    "\n",
    "long_random_label_results_df['stage'] = (long_random_label_results_df['stage']\n",
    "                                         .apply(lambda x: {'error_train': 'Training',\n",
    "                                                           'error_test': 'Test'}[x]))\n",
    "\n",
    "long_random_label_results_df = long_random_label_results_df.rename({'stage': 'Stage',\n",
    "                                                                    'error': 'Error (%)',\n",
    "                                                                    'p': 'Random labels (%)',\n",
    "                                                                    'c': 'Capacity parameter'}, axis=1)"
   ]
  },
  {
   "cell_type": "code",
   "execution_count": 13,
   "metadata": {},
   "outputs": [
    {
     "data": {
      "image/png": "[encoded data removed]",
      "text/plain": [
       "<Figure size 889.903x360 with 2 Axes>"
      ]
     },
     "metadata": {
      "needs_background": "light"
     },
     "output_type": "display_data"
    }
   ],
   "source": [
    "with sns.plotting_context('notebook', font_scale=2):\n",
    "\n",
    "    sns.catplot(x='Random labels (%)', y='Error (%)', hue='Stage', col='Capacity parameter',\n",
    "                kind='point', label='big',\n",
    "                data=long_random_label_results_df);\n",
    "    \n",
    "    plt.savefig('figures/q2-comparision.png', dpi=300)"
   ]
  }
 ],
 "metadata": {
  "kernelspec": {
   "display_name": "Python 3",
   "language": "python",
   "name": "python3"
  },
  "language_info": {
   "codemirror_mode": {
    "name": "ipython",
    "version": 3
   },
   "file_extension": ".py",
   "mimetype": "text/x-python",
   "name": "python",
   "nbconvert_exporter": "python",
   "pygments_lexer": "ipython3",
   "version": "3.6.8"
  }
 },
 "nbformat": 4,
 "nbformat_minor": 5
}
