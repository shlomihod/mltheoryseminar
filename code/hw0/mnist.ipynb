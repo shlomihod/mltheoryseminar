{
 "cells": [
  {
   "cell_type": "code",
   "execution_count": 1,
   "metadata": {
    "id": "JxmyUeRnZHsD"
   },
   "outputs": [],
   "source": [
    "import torch\n",
    "import torch.nn as nn\n",
    "import numpy as np\n",
    "from torch.utils.data import DataLoader, Dataset, TensorDataset\n",
    "import torchvision.datasets as ds\n",
    "import pylab as plt"
   ]
  },
  {
   "cell_type": "code",
   "execution_count": 2,
   "metadata": {
    "id": "ZLIuC3koZIUf"
   },
   "outputs": [],
   "source": [
    "def load_mnist(datadir='./data_cache'):\n",
    "    train_ds = ds.MNIST(root=datadir, train=True,\n",
    "                           download=True, transform=None)\n",
    "    test_ds = ds.MNIST(root=datadir, train=False,\n",
    "                          download=True, transform=None)\n",
    "\n",
    "    def to_xy(dataset):\n",
    "        X = np.array(dataset.data) / 255.0  # [0, 1]\n",
    "        Y = np.array(dataset.targets)\n",
    "        return X, Y\n",
    "\n",
    "    X_tr, Y_tr = to_xy(train_ds)\n",
    "    X_te, Y_te = to_xy(test_ds)\n",
    "    return X_tr, Y_tr, X_te, Y_te\n",
    "\n",
    "X_tr, Y_tr, X_te, Y_te = load_mnist()"
   ]
  },
  {
   "cell_type": "code",
   "execution_count": 3,
   "metadata": {
    "colab": {
     "base_uri": "https://localhost:8080/",
     "height": 281
    },
    "id": "aeRR7tetZJY0",
    "outputId": "605b475a-0f7c-4624-a609-063eeef1d98c"
   },
   "outputs": [
    {
     "data": {
      "image/png": "[encoded data removed]",
      "text/plain": [
       "<Figure size 432x288 with 1 Axes>"
      ]
     },
     "metadata": {
      "needs_background": "light"
     },
     "output_type": "display_data"
    }
   ],
   "source": [
    "i = np.random.choice(len(X_tr))\n",
    "plt.imshow(X_tr[i], cmap='gray');\n",
    "plt.title(f'digit: {Y_tr[i]}');"
   ]
  },
  {
   "cell_type": "markdown",
   "metadata": {
    "id": "_dwZTk8XZMay"
   },
   "source": [
    "## Linear Regression"
   ]
  },
  {
   "cell_type": "code",
   "execution_count": 4,
   "metadata": {
    "id": "asxobB8Zbg39"
   },
   "outputs": [],
   "source": [
    "def prepare_reg_data(X, Y, n=None):\n",
    "    if n is not None:\n",
    "        I = np.random.choice(len(X), n, replace=False)\n",
    "        X = X[I]\n",
    "        Y = Y[I]\n",
    "    \n",
    "    Y = (Y % 2) * 2.0 - 1 # odd/even --> +1/-1\n",
    "    X = X.reshape(-1,  28*28) # flatten\n",
    "\n",
    "    return X, Y"
   ]
  },
  {
   "cell_type": "code",
   "execution_count": 5,
   "metadata": {
    "id": "yDv2dzWgb338"
   },
   "outputs": [],
   "source": [
    "X_tr_reg, Y_tr_reg = prepare_reg_data(X_tr, Y_tr, 500)\n",
    "X_te_reg, Y_te_reg = prepare_reg_data(X_te, Y_te)"
   ]
  },
  {
   "cell_type": "code",
   "execution_count": 6,
   "metadata": {
    "colab": {
     "base_uri": "https://localhost:8080/"
    },
    "id": "LT1OuADFZKgh",
    "outputId": "4ee25c6e-5c59-4921-e660-3cdeaff2aecd"
   },
   "outputs": [
    {
     "name": "stdout",
     "output_type": "stream",
     "text": [
      "original X_tr: (60000, 28, 28)\n",
      "reshaped X: (500, 784)\n",
      "reshaped Y: (500,)\n"
     ]
    }
   ],
   "source": [
    "print('original X_tr:', X_tr.shape)\n",
    "\n",
    "print('reshaped X:', X_tr_reg.shape)\n",
    "print('reshaped Y:', Y_tr_reg.shape)"
   ]
  },
  {
   "cell_type": "markdown",
   "metadata": {
    "id": "b23Cl_NoZPCo"
   },
   "source": [
    "Now solve:\n",
    "$$\\text{argmin}_\\beta ||X \\beta - Y||_2$$\n",
    "for $\\beta \\in \\mathbb{R}^{784}$"
   ]
  },
  {
   "cell_type": "code",
   "execution_count": 7,
   "metadata": {
    "colab": {
     "base_uri": "https://localhost:8080/"
    },
    "id": "9fMaj2JyZhFY",
    "outputId": "971a5384-f51f-4b35-af9e-4b64e3bc0828"
   },
   "outputs": [
    {
     "name": "stdout",
     "output_type": "stream",
     "text": [
      "X_tr rank: 500\n"
     ]
    }
   ],
   "source": [
    "print('X_tr rank:', np.linalg.matrix_rank(X_tr_reg))"
   ]
  },
  {
   "cell_type": "code",
   "execution_count": 8,
   "metadata": {
    "id": "cMXombFD1a3S"
   },
   "outputs": [],
   "source": [
    "def mse(beta, X, Y):\n",
    "    return np.mean((beta @ X.T - Y)**2)\n",
    "\n",
    "\n",
    "def acc(beta, X, Y):\n",
    "    return np.mean(np.sign(beta @ X.T) == Y)"
   ]
  },
  {
   "cell_type": "markdown",
   "metadata": {
    "id": "JzypJY5D1b27"
   },
   "source": [
    "### Analytical Solution"
   ]
  },
  {
   "cell_type": "code",
   "execution_count": 9,
   "metadata": {
    "id": "UhNFIQYcaCSS"
   },
   "outputs": [],
   "source": [
    "def fit_lin_reg_ana(X, Y):\n",
    "    return np.linalg.pinv(X.T @ X) @ X.T @ Y"
   ]
  },
  {
   "cell_type": "code",
   "execution_count": 10,
   "metadata": {
    "colab": {
     "base_uri": "https://localhost:8080/"
    },
    "id": "KVwZNDykZ4Bv",
    "outputId": "60083510-7dde-4b4c-d976-6ca405c25eee"
   },
   "outputs": [
    {
     "name": "stdout",
     "output_type": "stream",
     "text": [
      "Train MSE: 4.408799916081002e-24\n",
      "Test MSE: 21.08206705745801\n",
      "Train Acc: 1.0\n",
      "Test Acc: 0.5928\n",
      "Beta norm: 90.43360555523485\n"
     ]
    }
   ],
   "source": [
    "beta_ana = fit_lin_reg_ana(X_tr_reg, Y_tr_reg)\n",
    "\n",
    "print('Train MSE:', mse(beta_ana, X_tr_reg, Y_tr_reg))\n",
    "print('Test MSE:', mse(beta_ana, X_te_reg, Y_te_reg))\n",
    "print('Train Acc:', acc(beta_ana, X_tr_reg, Y_tr_reg))\n",
    "print('Test Acc:', acc(beta_ana, X_te_reg, Y_te_reg))\n",
    "print('Beta norm:', np.linalg.norm(beta_ana))"
   ]
  },
  {
   "cell_type": "markdown",
   "metadata": {
    "id": "bBUcyrfw1pxW"
   },
   "source": [
    "### Gradient Decent Solution"
   ]
  },
  {
   "cell_type": "code",
   "execution_count": 11,
   "metadata": {
    "id": "dZGD7TzcZaP7"
   },
   "outputs": [],
   "source": [
    "def fit_lin_reg_gd(X, Y, epochs=1000, lr=0.01):\n",
    "    beta = np.random.normal(size=X.shape[1])\n",
    "\n",
    "    losses = []\n",
    "    \n",
    "    for _ in range(epochs):\n",
    "        grad = 2 * X.T @ (X @ beta - Y)\n",
    "        grad /= X.shape[0]\n",
    "        beta -= lr * grad\n",
    "        \n",
    "        losses.append(mse(beta, X, Y))\n",
    "    \n",
    "    return beta, losses\n",
    "\n",
    "\n",
    "def test_fit_lin_reg_gd():\n",
    "\n",
    "    # problem with low condition number\n",
    "    XX = np.random.normal(size=(500, 10))\n",
    "    bb = np.random.normal(size=10)\n",
    "    YY = bb @ XX.T + np.random.normal(size=500, scale=0.5)\n",
    "\n",
    "    beta_ana = fit_lin_reg_ana(XX, YY)\n",
    "    beta_gd, _ = fit_lin_reg_gd(XX, YY)\n",
    "\n",
    "    np.testing.assert_allclose(beta_ana, beta_gd, rtol=1e-5)\n",
    "\n",
    "test_fit_lin_reg_gd()"
   ]
  },
  {
   "cell_type": "code",
   "execution_count": 12,
   "metadata": {
    "colab": {
     "base_uri": "https://localhost:8080/"
    },
    "id": "xuxtHhEFhbtI",
    "outputId": "2c1f2abb-4b51-405b-922c-d0aaef05565d"
   },
   "outputs": [
    {
     "name": "stdout",
     "output_type": "stream",
     "text": [
      "Train MSE: 1.824601870210622\n",
      "Test MSE: 4.003963742673186\n",
      "Train Acc: 0.712\n",
      "Test Acc: 0.6389\n",
      "Beta norm: 24.614246193959445\n"
     ]
    }
   ],
   "source": [
    "beta_gd, losses = fit_lin_reg_gd(X_tr_reg, Y_tr_reg)\n",
    "\n",
    "print('Train MSE:', mse(beta_gd, X_tr_reg, Y_tr_reg))\n",
    "print('Test MSE:', mse(beta_gd, X_te_reg, Y_te_reg))\n",
    "print('Train Acc:', acc(beta_gd, X_tr_reg, Y_tr_reg))\n",
    "print('Test Acc:', acc(beta_gd, X_te_reg, Y_te_reg))\n",
    "print('Beta norm:', np.linalg.norm(beta_gd))"
   ]
  },
  {
   "cell_type": "code",
   "execution_count": 13,
   "metadata": {},
   "outputs": [
    {
     "data": {
      "image/png": "[encoded data removed]",
      "text/plain": [
       "<Figure size 432x288 with 1 Axes>"
      ]
     },
     "metadata": {
      "needs_background": "light"
     },
     "output_type": "display_data"
    }
   ],
   "source": [
    "plt.plot(losses)\n",
    "plt.xlabel('# epochs')\n",
    "plt.ylabel('Test MSE')\n",
    "plt.savefig('./figures/q3-convergence.png', dpi=300)"
   ]
  },
  {
   "cell_type": "code",
   "execution_count": 14,
   "metadata": {
    "colab": {
     "base_uri": "https://localhost:8080/"
    },
    "id": "Ix-730uPmqNO",
    "outputId": "72427fdf-57be-4c7a-c364-fefd333d9294"
   },
   "outputs": [
    {
     "name": "stdout",
     "output_type": "stream",
     "text": [
      "Train MSE: 0.17168743040058332\n",
      "Test MSE: 0.7525931367247649\n",
      "Train Acc: 0.988\n",
      "Test Acc: 0.8078\n",
      "Beta norm: 4.377241815587488\n"
     ]
    }
   ],
   "source": [
    "# sklearn implements SGD with batch size 1\n",
    "\n",
    "from sklearn.linear_model import SGDRegressor\n",
    "\n",
    "reg = (SGDRegressor(alpha=0, learning_rate='constant', fit_intercept=False)\n",
    "      .fit(X_tr_reg, Y_tr_reg))\n",
    "\n",
    "print('Train MSE:', mse(reg.coef_, X_tr_reg, Y_tr_reg))\n",
    "print('Test MSE:', mse(reg.coef_, X_te_reg, Y_te_reg))\n",
    "print('Train Acc:', acc(reg.coef_, X_tr_reg, Y_tr_reg))\n",
    "print('Test Acc:', acc(reg.coef_, X_te_reg, Y_te_reg))\n",
    "print('Beta norm:', np.linalg.norm(reg.coef_))"
   ]
  },
  {
   "cell_type": "markdown",
   "metadata": {
    "id": "yWHsfFRY1seR"
   },
   "source": [
    "### Condition Number"
   ]
  },
  {
   "cell_type": "code",
   "execution_count": 15,
   "metadata": {
    "colab": {
     "base_uri": "https://localhost:8080/"
    },
    "id": "DPSz-xpO0t2J",
    "outputId": "b027b601-0633-4f79-ac25-ecdf73bc9402"
   },
   "outputs": [
    {
     "name": "stdout",
     "output_type": "stream",
     "text": [
      "Condition number: 9.635722828097106e+17\n"
     ]
    }
   ],
   "source": [
    "spectrum = np.linalg.eigvals(X_tr_reg.T @ X_tr_reg)\n",
    "print('Condition number:', np.abs(spectrum.max() / spectrum.min()))"
   ]
  }
 ],
 "metadata": {
  "colab": {
   "collapsed_sections": [],
   "name": "mnist.ipynb",
   "provenance": []
  },
  "kernelspec": {
   "display_name": "Python 3",
   "language": "python",
   "name": "python3"
  },
  "language_info": {
   "codemirror_mode": {
    "name": "ipython",
    "version": 3
   },
   "file_extension": ".py",
   "mimetype": "text/x-python",
   "name": "python",
   "nbconvert_exporter": "python",
   "pygments_lexer": "ipython3",
   "version": "3.6.8"
  }
 },
 "nbformat": 4,
 "nbformat_minor": 4
}
